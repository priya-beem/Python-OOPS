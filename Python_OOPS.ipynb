{
  "nbformat": 4,
  "nbformat_minor": 0,
  "metadata": {
    "colab": {
      "provenance": []
    },
    "kernelspec": {
      "name": "python3",
      "display_name": "Python 3"
    },
    "language_info": {
      "name": "python"
    }
  },
  "cells": [
    {
      "cell_type": "code",
      "execution_count": null,
      "metadata": {
        "id": "uSTr7fdevBhM"
      },
      "outputs": [],
      "source": []
    },
    {
      "cell_type": "markdown",
      "source": [
        "Python OOPs\n",
        "1.What is Object-Oriented Programming (OOP)?\n",
        "Ans-Object-Oriented Programming (OOP) is a programming paradigm based on the concept of \"objects.\" These objects are instances of classes, and they can contain both data (attributes or properties) and methods (functions or behaviors) that operate on the data. The goal of OOP is to design software in a way that is modular, reusable, and easier to maintain.\n",
        "\n",
        "Here are some key concepts in OOP:\n",
        "\n",
        "1. Classes and Objects\n",
        "Class: A blueprint for creating objects. It defines the attributes and behaviors that the objects of that class will have.\n",
        "Object: An instance of a class. It has actual values for the properties defined by the class and can perform the methods associated with the class.\n",
        "Example:\n",
        "\n",
        "python\n",
        "Copy\n",
        "class Car:\n",
        "    def __init__(self, make, model):\n",
        "        self.make = make\n",
        "        self.model = model\n",
        "    \n",
        "    def drive(self):\n",
        "        print(f\"The {self.make} {self.model} is driving.\")\n",
        "\n",
        "my_car = Car(\"Toyota\", \"Corolla\")\n",
        "my_car.drive()  # Output: The Toyota Corolla is driving.\n",
        "2. Encapsulation\n",
        "Encapsulation is the concept of bundling the data (attributes) and the methods that operate on that data within a single unit, called a class. It also restricts direct access to some of the object's attributes and methods, which can help to avoid unintended interference and errors.\n",
        "\n",
        "Private attributes: You can use private or protected access modifiers (like _ or __ in Python) to restrict access to certain data or methods.\n",
        "Example:\n",
        "\n",
        "python\n",
        "Copy\n",
        "class BankAccount:\n",
        "    def __init__(self, balance):\n",
        "        self.__balance = balance  # private attribute\n",
        "    \n",
        "    def deposit(self, amount):\n",
        "        if amount > 0:\n",
        "            self.__balance += amount\n",
        "    \n",
        "    def get_balance(self):\n",
        "        return self.__balance\n",
        "\n",
        "account = BankAccount(1000)\n",
        "account.deposit(500)\n",
        "print(account.get_balance())  # Output: 1500\n",
        "3. Inheritance\n",
        "Inheritance allows a class to inherit attributes and methods from another class. The child class can reuse the functionality of the parent class and can also add its own unique features.\n",
        "\n",
        "Superclass (Parent class): The class being inherited from.\n",
        "Subclass (Child class): The class inheriting the attributes and behaviors from the parent.\n",
        "Example:\n",
        "\n",
        "python\n",
        "Copy\n",
        "class Animal:\n",
        "    def speak(self):\n",
        "        print(\"Animal makes a sound\")\n",
        "\n",
        "class Dog(Animal):  # Dog inherits from Animal\n",
        "    def speak(self):\n",
        "        print(\"Dog barks\")\n",
        "\n",
        "dog = Dog()\n",
        "dog.speak()  # Output: Dog barks\n",
        "4. Polymorphism\n",
        "Polymorphism means \"many forms.\" It allows objects of different classes to be treated as objects of a common superclass. The most common use of polymorphism is when a child class overrides a method of the parent class, but the method can be called in the same way on objects of different classes.\n",
        "\n",
        "Example:\n",
        "\n",
        "python\n",
        "Copy\n",
        "class Animal:\n",
        "    def speak(self):\n",
        "        print(\"Animal makes a sound\")\n",
        "\n",
        "class Dog(Animal):\n",
        "    def speak(self):\n",
        "        print(\"Dog barks\")\n",
        "\n",
        "class Cat(Animal):\n",
        "    def speak(self):\n",
        "        print(\"Cat meows\")\n",
        "\n",
        "def make_animal_speak(animal):\n",
        "    animal.speak()\n",
        "\n",
        "dog = Dog()\n",
        "cat = Cat()\n",
        "\n",
        "make_animal_speak(dog)  # Output: Dog barks\n",
        "make_animal_speak(cat)  # Output: Cat meows\n",
        "5. Abstraction\n",
        "Abstraction involves hiding the complex implementation details and showing only the essential features of the object. This allows the user to interact with objects at a high level and prevents them from needing to understand the underlying complexity.\n",
        "\n",
        "In OOP, abstraction can be achieved through abstract classes and interfaces (though abstract classes are more prominent in some languages, such as Java or C#).\n",
        "Example:\n",
        "\n",
        "python\n",
        "Copy\n",
        "from abc import ABC, abstractmethod\n",
        "\n",
        "class Shape(ABC):\n",
        "    @abstractmethod\n",
        "    def area(self):\n",
        "        pass\n",
        "\n",
        "class Circle(Shape):\n",
        "    def __init__(self, radius):\n",
        "        self.radius = radius\n",
        "    \n",
        "    def area(self):\n",
        "        return 3.14 * self.radius * self.radius\n",
        "\n",
        "circle = Circle(5)\n",
        "print(circle.area())  # Output: 78.5\n",
        "Why OOP?\n",
        "Modularity: Code is organized into reusable components (classes and objects).\n",
        "Reusability: Once a class is defined, it can be reused to create many objects without repeating code.\n",
        "Maintainability: It’s easier to manage and modify because changes in one part of the system (e.g., a class) do not affect other parts.\n",
        "Scalability: OOP makes it easier to manage large software systems by breaking down the system into manageable chunks.\n",
        "OOP is widely used in many modern programming languages, including Python, Java, C++, and C#.\n",
        "\n",
        "\n",
        "\n"
      ],
      "metadata": {
        "id": "xJzlzE7evRXh"
      }
    },
    {
      "cell_type": "code",
      "source": [],
      "metadata": {
        "id": "4LNbA5KnwMux"
      },
      "execution_count": null,
      "outputs": []
    },
    {
      "cell_type": "markdown",
      "source": [
        "2.What is a class in OOP?\n",
        "Ans-In Object-Oriented Programming (OOP), a class is a blueprint or template for creating objects. It defines a type by bundling data (attributes) and methods (functions) that operate on the data. Essentially, a class defines the structure and behavior that its objects will have.\n",
        "\n",
        "Key Components of a Class:\n",
        "Attributes (or Properties): These are the variables that hold the state or data for an object. Every object created from the class can have its own unique values for these attributes.\n",
        "\n",
        "Methods (or Functions): These define the behaviors or actions that an object can perform. Methods are functions that belong to the class and typically operate on the object's attributes.\n",
        "\n",
        "Constructor (__init__ in Python): A special method that is called when an object is created from the class. It initializes the object's attributes with values.\n",
        "\n",
        "Instance: When an object is created from a class, it's called an instance of that class. Each instance can hold different data.\n",
        "\n"
      ],
      "metadata": {
        "id": "gf7d4cz5wNhT"
      }
    },
    {
      "cell_type": "code",
      "source": [],
      "metadata": {
        "id": "IkgSLx_awnHR"
      },
      "execution_count": null,
      "outputs": []
    },
    {
      "cell_type": "markdown",
      "source": [
        "3.What is an object in OOP?\n",
        "Ans-In Object-Oriented Programming (OOP), an object is an instance of a class. An object represents a specific entity that has its own state (attributes) and behavior (methods or functions).\n",
        "\n",
        "Key Characteristics of an Object:\n",
        "State (Attributes): These are the data or properties that describe the object. The state is usually defined by the attributes in the class.\n",
        "\n",
        "Behavior (Methods): These are the actions the object can perform. The behavior is defined by the methods in the class, and they usually operate on the object’s attributes.\n",
        "\n",
        "Identity: Every object has a unique identity, even if its state and behavior are identical to another object of the same class. This allows multiple objects of the same class to exist independently, each holding its own state."
      ],
      "metadata": {
        "id": "IoJJ1OMGwnuE"
      }
    },
    {
      "cell_type": "code",
      "source": [],
      "metadata": {
        "id": "M6n_ehzfw1ot"
      },
      "execution_count": null,
      "outputs": []
    },
    {
      "cell_type": "markdown",
      "source": [
        "4.What is the difference between abstraction and encapsulation?\n",
        "Ans-The difference between abstraction and encapsulation in Object-Oriented Programming (OOP) lies in their purpose, focus, and how they are implemented. Here's a clear breakdown of the two concepts:\n",
        "\n",
        "1. Purpose:\n",
        "Abstraction:\n",
        "Abstraction is focused on hiding the complexity of the system by exposing only the essential features. It allows us to interact with the object at a high level without worrying about the internal implementation details.\n",
        "\n",
        "Goal: To simplify complex systems by hiding unnecessary details and showing only relevant information.\n",
        "\n",
        "Encapsulation:\n",
        "Encapsulation is about bundling data and methods together, and restricting access to an object’s internal state. It ensures that the object's internal state cannot be directly accessed or modified from outside the object, providing controlled access via public methods (getters and setters).\n",
        "\n",
        "Goal: To protect the object's internal state and ensure that data can only be modified in controlled ways.\n",
        "\n",
        "2. Focus:\n",
        "Abstraction:\n",
        "Focuses on what an object can do, hiding the how. It allows you to focus on high-level operations without knowing the implementation details.\n",
        "\n",
        "Encapsulation:\n",
        "Focuses on how the data is protected and accessed. It involves hiding the internal details of an object and providing controlled access to them through methods.\n",
        "\n",
        "3. Mechanism:\n",
        "Abstraction:\n",
        "Achieved using abstract classes, interfaces, or abstract methods. It allows you to define methods that need to be implemented but hides the details of the implementation.\n",
        "\n",
        "Encapsulation:\n",
        "Achieved using private or protected attributes and providing public methods (getters/setters) to access and modify those attributes. This is often done using access modifiers to control visibility.\n",
        "\n",
        "4. Example:\n",
        "Abstraction:\n",
        "\n",
        "Suppose you have a class Shape, and its subclasses Circle and Square. The abstraction here is that you don't need to know the specific details of how Circle or Square calculate their area; you only need to know that they have an area() method.\n",
        "\n",
        "python\n",
        "Copy\n",
        "from abc import ABC, abstractmethod\n",
        "\n",
        "class Shape(ABC):\n",
        "    @abstractmethod\n",
        "    def area(self):\n",
        "        pass\n",
        "\n",
        "class Circle(Shape):\n",
        "    def __init__(self, radius):\n",
        "        self.radius = radius\n",
        "        \n",
        "    def area(self):\n",
        "        return 3.14 * self.radius ** 2\n",
        "\n",
        "class Square(Shape):\n",
        "    def __init__(self, side):\n",
        "        self.side = side\n",
        "        \n",
        "    def area(self):\n",
        "        return self.side ** 2"
      ],
      "metadata": {
        "id": "X27ZxB8Jw2SA"
      }
    },
    {
      "cell_type": "code",
      "source": [],
      "metadata": {
        "id": "yx52MKI-xV1M"
      },
      "execution_count": null,
      "outputs": []
    },
    {
      "cell_type": "markdown",
      "source": [
        "5.What are dunder methods in Python?\n",
        "Ans-Dunder methods, also known as magic methods or special methods, are methods in Python that have double underscores at the beginning and end of their names, like __init__, __str__, or __len__. These methods allow you to define or override default behavior for objects of a class. Essentially, they let you customize how Python interacts with your class instances in various situations.\n",
        "\n",
        "Here are a few common examples:\n",
        "\n",
        "__init__: This method is called when an object is created (the constructor).\n",
        "\n",
        "python\n",
        "Copy\n",
        "class Person:\n",
        "    def __init__(self, name, age):\n",
        "        self.name = name\n",
        "        self.age = age\n",
        "__str__: This method defines the string representation of an object, usually for when you print the object.\n",
        "\n",
        "python\n",
        "Copy\n",
        "class Person:\n",
        "    def __str__(self):\n",
        "        return f\"Person({self.name}, {self.age})\"\n",
        "__len__: This method is used to define the behavior of len() for an object.\n",
        "\n",
        "python\n",
        "Copy\n",
        "class Box:\n",
        "    def __init__(self, items):\n",
        "        self.items = items\n",
        "    \n",
        "    def __len__(self):\n",
        "        return len(self.items\n",
        "        \n"
      ],
      "metadata": {
        "id": "3hchRSRoxWZL"
      }
    },
    {
      "cell_type": "code",
      "source": [],
      "metadata": {
        "id": "2KsGCOJDyCaa"
      },
      "execution_count": null,
      "outputs": []
    },
    {
      "cell_type": "markdown",
      "source": [
        "6. Explain the concept of inheritance in OOP\n",
        "Ans-Inheritance is a core concept in Object-Oriented Programming (OOP) that allows one class (called the child class or subclass) to inherit the attributes and behaviors (methods) of another class (called the parent class or superclass). This allows for the creation of a hierarchy where a child class can extend or modify the functionality of its parent class.\n",
        "\n",
        "Key Points of Inheritance:\n",
        "Code Reusability: The child class inherits the attributes and methods of the parent class, which allows you to reuse code that’s already written, rather than duplicating it.\n",
        "\n",
        "Extension: The child class can extend the parent class by adding new attributes or methods or overriding existing ones. This allows for more specialized behavior.\n",
        "\n",
        "Method Overriding: The child class can change or \"override\" methods from the parent class. This is useful when the child class needs to provide a different implementation of a method that was inherited.\n",
        "\n",
        "\"Is-a\" Relationship: Inheritance establishes an \"is-a\" relationship. For example, if class Dog inherits from class Animal, a Dog is an Animal, but an Animal is not necessarily a Dog."
      ],
      "metadata": {
        "id": "q44sh3gzyC6S"
      }
    },
    {
      "cell_type": "code",
      "source": [],
      "metadata": {
        "id": "TZNX2hjcyUiN"
      },
      "execution_count": null,
      "outputs": []
    },
    {
      "cell_type": "markdown",
      "source": [
        "7. What is polymorphism in OOP?\n",
        "Ans-Polymorphism in Object-Oriented Programming (OOP) is the concept that allows objects of different classes to be treated as objects of a common superclass. The main idea is that the same method or operation can behave differently based on the object that invokes it, even if the method's name is the same.\n",
        "\n",
        "The word polymorphism comes from the Greek words \"poly\" (meaning \"many\") and \"morph\" (meaning \"form\"). So, it literally means \"many forms.\" In OOP, it refers to the ability of different classes to provide their own specific implementations of methods that are defined in a common interface or parent class.\n",
        "\n",
        "Key Features of Polymorphism:\n",
        "Same Interface, Different Implementation:\n",
        "\n",
        "Different classes can have methods with the same name, but each class can implement its version of that method. The right version is called at runtime, based on the object type.\n",
        "Dynamic Method Binding:\n",
        "\n",
        "In most OOP languages (like Python), polymorphism is resolved at runtime. This is also known as dynamic dispatch or late binding.\n",
        "Code Reusability and Flexibility:\n",
        "\n",
        "Polymorphism allows for writing more flexible and reusable code. A function can interact with objects of different types (as long as they share a common interface or parent class).\n",
        "Types of Polymorphism:\n",
        "Compile-Time Polymorphism (Method Overloading, Operator Overloading):\n",
        "\n",
        "This occurs when the method or function is defined multiple times with different parameters (i.e., with a different number or types of arguments). The compiler determines which version of the method to call at compile-time.\n",
        "Note: Python does not support method overloading directly (as some other languages do), but it can achieve similar functionality using default arguments or variable-length arguments.\n",
        "Run-Time Polymorphism (Method Overriding):\n",
        "\n",
        "This occurs when a subclass provides its own specific implementation of a method that is already defined in the parent class. The correct method to call is determined at runtime based on the object's actual type (not the type of the reference).\n",
        "Example of Run-Time Polymorphism (Method Overriding):\n",
        "python\n",
        "Copy\n",
        "class Animal:\n",
        "    def speak(self):\n",
        "        print(\"The animal makes a sound\")\n",
        "\n",
        "class Dog(Animal):\n",
        "    def speak(self):\n",
        "        print(\"Woof!\")\n",
        "\n",
        "class Cat(Animal):\n",
        "    def speak(self):\n",
        "        print(\"Meow!\")\n",
        "\n",
        "# Polymorphism in action\n",
        "def animal_sound(animal):\n",
        "    animal.speak()\n",
        "\n",
        "dog = Dog()\n",
        "cat = Cat()\n",
        "\n",
        "animal_sound(dog)  # Outputs: Woof!\n",
        "animal_sound(cat)  # Outputs: Meow!\n",
        "In this example:\n",
        "\n",
        "Dog and Cat are subclasses of Animal.\n",
        "Both Dog and Cat override the speak() method of Animal to provide their specific sound.\n",
        "The animal_sound() function takes an object of type Animal but calls the speak() method of whatever specific subclass (Dog or Cat) is passed in. This is polymorphism in action, where the same method (speak()) behaves differently depending on the object.\n",
        "Example of Compile-Time Polymorphism (Method Overloading) in Python:\n",
        "Python doesn't support traditional method overloading as some other languages (like Java or C++) do, but we can achieve similar behavior using default arguments or variable-length arguments.\n",
        "\n",
        "python\n",
        "Copy\n",
        "class Printer:\n",
        "    def print_message(self, message=None):\n",
        "        if message is None:\n",
        "            print(\"No message provided.\")\n",
        "        else:\n",
        "            print(f\"Message: {message}\")\n",
        "\n",
        "printer = Printer()\n",
        "printer.print_message()            # Outputs: No message provided.\n",
        "printer.print_message(\"Hello!\")   # Outputs: Message: Hello!\n",
        "In this case:\n",
        "\n",
        "The print_message() method in the Printer class handles both the case where no argument is passed (default behavior) and the case where a message is provided. This simulates the concept of method overloading.\n",
        "Benefits of Polymorphism:\n",
        "Flexibility: Polymorphism allows for flexible and extensible code. For instance, functions can accept arguments of the base type (e.g., Animal), and the specific behavior (e.g., Dog or Cat) will be determined at runtime.\n",
        "\n",
        "Code Reusability: By using polymorphism, you can reuse existing code to work with objects of different types, reducing the need to write redundant code.\n",
        "\n",
        "Maintainability: Polymorphic code tends to be easier to maintain and extend. If you add a new class that extends the parent class and overrides a method, you don’t need to change the existing code that works with the parent class type.\n",
        "\n",
        "Clearer Code: Polymorphism allows for simpler, cleaner code because you can write general methods that work across multiple classes, rather than needing to write separate methods for each class type."
      ],
      "metadata": {
        "id": "523SGpEByXfh"
      }
    },
    {
      "cell_type": "code",
      "source": [],
      "metadata": {
        "id": "3crLTD3rytKq"
      },
      "execution_count": null,
      "outputs": []
    },
    {
      "cell_type": "markdown",
      "source": [
        "8.How is encapsulation achieved in Python?\n",
        "Ans-Encapsulation is one of the fundamental concepts of Object-Oriented Programming (OOP). It refers to the bundling of data (attributes) and methods (functions) that operate on the data into a single unit (class), and restricting access to some of the object's components. This is done to protect the integrity of the object and prevent accidental or unauthorized modification.\n",
        "\n",
        "In Python, encapsulation is achieved using:\n",
        "Private and Protected Attributes\n",
        "Getter and Setter Methods\n",
        "Property Decorators\n",
        "Let's break each of these down:\n",
        "\n",
        "1. Private and Protected Attributes\n",
        "In Python, encapsulation is implemented by making attributes private or protected using naming conventions. This limits access to those attributes from outside the class.\n",
        "\n",
        "Protected Attributes: Conventionally, a single underscore (_) is used to indicate that an attribute or method is intended for internal use and should not be accessed directly from outside the class (but this is just a convention, and it’s not enforced by the language).\n",
        "\n",
        "Private Attributes: A double underscore (__) is used to make attributes truly private. Python performs name mangling, where the attribute name is changed internally to include the class name, making it more difficult (but not impossible) to access.\n",
        "\n",
        "Example of Private and Protected Attributes:\n",
        "python\n",
        "Copy\n",
        "class Person:\n",
        "    def __init__(self, name, age):\n",
        "        self._name = name      # Protected attribute\n",
        "        self.__age = age       # Private attribute\n",
        "\n",
        "    def get_name(self):\n",
        "        return self._name\n",
        "\n",
        "    def get_age(self):\n",
        "        return self.__age\n",
        "\n",
        "    def set_age(self, age):\n",
        "        if age >= 0:\n",
        "            self.__age = age\n",
        "        else:\n",
        "            print(\"Invalid age.\")\n",
        "\n",
        "# Create an object\n",
        "person = Person(\"Alice\", 30)\n",
        "\n",
        "# Accessing protected attribute (not recommended)\n",
        "print(person._name)  # Outputs: Alice (technically possible but discouraged)\n",
        "\n",
        "# Accessing private attribute directly will raise an error\n",
        "# print(person.__age)  # This will raise an AttributeError\n",
        "\n",
        "# Accessing private attribute via getter method\n",
        "print(person.get_age())  # Outputs: 30\n",
        "\n",
        "# Setting the age using setter method\n",
        "person.set_age(35)\n",
        "print(person.get_age())  # Outputs: 35\n",
        "In the example above, the __age attribute is private, and we access it through the get_age() and set_age() methods. We cannot directly access __age because of name mangling (it would be internally renamed to something like _Person__age).\n",
        "2. Getter and Setter Methods\n",
        "To further control how data is accessed and modified, Python provides a mechanism where you define getter and setter methods. These methods allow you to safely retrieve or modify private attributes. You can add validation in the setter method, ensuring that the attribute is modified only in valid ways.\n",
        "\n",
        "Example of Getter and Setter:\n",
        "python\n",
        "Copy\n",
        "class Person:\n",
        "    def __init__(self, name, age):\n",
        "        self.__name = name\n",
        "        self.__age = age\n",
        "\n",
        "    def get_name(self):\n",
        "        return self.__name\n",
        "\n",
        "    def set_name(self, name):\n",
        "        if isinstance(name, str) and len(name) > 0:\n",
        "            self.__name = name\n",
        "        else:\n",
        "            print(\"Invalid name.\")\n",
        "\n",
        "    def get_age(self):\n",
        "        return self.__age\n",
        "\n",
        "    def set_age(self, age):\n",
        "        if age >= 0:\n",
        "            self.__age = age\n",
        "        else:\n",
        "            print(\"Age cannot be negative.\")\n",
        "\n",
        "# Create a person object\n",
        "person = Person(\"Alice\", 25)\n",
        "\n",
        "# Accessing the name via getter method\n",
        "print(person.get_name())  # Outputs: Alice\n",
        "\n",
        "# Setting the name via setter method\n",
        "person.set_name(\"Bob\")\n",
        "\n",
        "# Accessing the age via getter method\n",
        "print(person.get_age())  # Outputs: 25\n",
        "\n",
        "# Trying to set an invalid age\n",
        "person.set_age(-5)  # Outputs: Age cannot be negative.\n",
        "In this example:\n",
        "\n",
        "Getter methods (get_name and get_age) allow access to private attributes (__name and __age).\n",
        "Setter methods (set_name and set_age) allow you to modify private attributes but with validation to ensure proper values are assigned.\n",
        "3. Property Decorators\n",
        "Python provides a cleaner and more Pythonic way to implement getters and setters using the @property decorator. This decorator allows you to define getter and setter methods but access them like regular attributes.\n",
        "\n",
        "Example of Property Decorators:\n",
        "python\n",
        "Copy\n",
        "class Person:\n",
        "    def __init__(self, name, age):\n",
        "        self.__name = name\n",
        "        self.__age = age\n",
        "\n",
        "    @property\n",
        "    def name(self):\n",
        "        return self.__name\n",
        "\n",
        "    @name.setter\n",
        "    def name(self, name):\n",
        "        if isinstance(name, str) and len(name) > 0:\n",
        "            self.__name = name\n",
        "        else:\n",
        "            print(\"Invalid name.\")\n",
        "\n",
        "    @property\n",
        "    def age(self):\n",
        "        return self.__age\n",
        "\n",
        "    @age.setter\n",
        "    def age(self, age):\n",
        "        if age >= 0:\n",
        "            self.__age = age\n",
        "        else:\n",
        "            print(\"Age cannot be negative.\")\n",
        "\n",
        "# Create a person object\n",
        "person = Person(\"Alice\", 30)\n",
        "\n",
        "# Accessing the name directly (like an attribute)\n",
        "print(person.name)  # Outputs: Alice\n",
        "\n",
        "# Setting the name directly (like an attribute)\n",
        "person.name = \"Bob\"\n",
        "\n",
        "# Accessing the age directly\n",
        "print(person.age)  # Outputs: 30\n",
        "\n",
        "# Trying to set an invalid age\n",
        "person.age = -5  # Outputs: Age cannot be negative.\n",
        "In this example:\n",
        "\n",
        "The @property decorator makes the name and age methods behave like attributes, allowing you to get and set their values without needing to explicitly call get_name() or set_name().\n",
        "The @name.setter and @age.setter decorators define the setter methods to validate the values before updating the private attributes.\n"
      ],
      "metadata": {
        "id": "8KPtLznTyyGs"
      }
    },
    {
      "cell_type": "code",
      "source": [],
      "metadata": {
        "id": "a8gReMVxzJil"
      },
      "execution_count": null,
      "outputs": []
    },
    {
      "cell_type": "markdown",
      "source": [
        "9.What is a constructor in Python?\n",
        "Ans-In Python, a constructor is a special method used to initialize a newly created object. It is automatically called when an object of a class is instantiated. The constructor is typically used to set up the initial state of the object, meaning you can assign values to the object's attributes when it is created.\n",
        "\n",
        "In Python, the constructor is defined using the special method __init__().\n",
        "\n",
        "Key Points:\n",
        "The __init__() method is not a return method; it does not return anything (it returns None by default).\n",
        "It is called automatically when an instance (object) of the class is created.\n",
        "It takes at least one parameter, self, which refers to the instance of the class being created.\n",
        "The __init__() method can accept additional parameters to allow customization of the object’s initial state.\n",
        "Syntax:\n",
        "python\n",
        "Copy\n",
        "class ClassName:\n",
        "    def __init__(self, param1, param2):\n",
        "        # Initialize object attributes\n",
        "        self.attribute1 = param1\n",
        "        self.attribute2 = param2\n",
        "Example of a Constructor:\n",
        "python\n",
        "Copy\n",
        "class Person:\n",
        "    # Constructor to initialize the name and age\n",
        "    def __init__(self, name, age):\n",
        "        self.name = name    # Assigning the name parameter to an instance variable\n",
        "        self.age = age      # Assigning the age parameter to an instance variable\n",
        "\n",
        "    def display_info(self):\n",
        "        print(f\"Name: {self.name}, Age: {self.age}\")\n",
        "\n",
        "# Creating an object (instantiating) of the class Person\n",
        "person1 = Person(\"Alice\", 30)\n",
        "\n",
        "# Calling the display_info method to show the initialized attributes\n",
        "person1.display_info()  # Outputs: Name: Alice, Age: 30"
      ],
      "metadata": {
        "id": "S73psPmCzJ-L"
      }
    },
    {
      "cell_type": "code",
      "source": [],
      "metadata": {
        "id": "jg4uR4Y6zl9Z"
      },
      "execution_count": null,
      "outputs": []
    },
    {
      "cell_type": "markdown",
      "source": [
        "10.What are class and static methods in Python?\n",
        "Ans-In Python, class methods and static methods are types of methods that belong to the class rather than to instances of the class. They differ from regular instance methods in how they interact with the class and instances.\n",
        "\n",
        "1. Class Methods\n",
        "A class method is a method that is bound to the class rather than an instance of the class. It takes the class itself as its first argument, conventionally named cls. This allows the method to access and modify class-level attributes and methods, but it doesn't have access to instance-specific data unless passed explicitly.\n",
        "\n",
        "To define a class method, you use the @classmethod decorator.\n",
        "\n",
        "Syntax:\n",
        "python\n",
        "Copy\n",
        "class MyClass:\n",
        "    @classmethod\n",
        "    def my_class_method(cls, args):\n",
        "        # Method code here\n",
        "Example:\n",
        "python\n",
        "Copy\n",
        "class Car:\n",
        "    wheels = 4  # Class attribute\n",
        "\n",
        "    def __init__(self, make, model):\n",
        "        self.make = make  # Instance attribute\n",
        "        self.model = model  # Instance attribute\n",
        "\n",
        "    @classmethod\n",
        "    def change_wheels(cls, new_wheel_count):\n",
        "        cls.wheels = new_wheel_count  # Modify class-level attribute\n",
        "\n",
        "# Create an instance of Car\n",
        "car1 = Car(\"Toyota\", \"Camry\")\n",
        "print(f\"Initial number of wheels: {car1.wheels}\")\n",
        "\n",
        "# Call the class method to modify the class-level attribute\n",
        "Car.change_wheels(6)\n",
        "\n",
        "# Now all instances reflect the updated class attribute\n",
        "print(f\"Updated number of wheels: {car1.wheels}\")\n",
        "Output:\n",
        "typescript\n",
        "Copy\n",
        "Initial number of wheels: 4\n",
        "Updated number of wheels: 6"
      ],
      "metadata": {
        "id": "mjz9dRiVzmwS"
      }
    },
    {
      "cell_type": "code",
      "source": [],
      "metadata": {
        "id": "YCoIlOST0IWe"
      },
      "execution_count": null,
      "outputs": []
    },
    {
      "cell_type": "markdown",
      "source": [
        "11. What is method overloading in Python?\n",
        "Ans-In Python, method overloading refers to the ability to define multiple methods with the same name but with different argument signatures. However, unlike some other programming languages (like Java or C++), Python doesn't support traditional method overloading directly. Instead, Python allows you to define a method with the same name, but the latest definition will overwrite the previous ones.\n",
        "\n",
        "That said, you can achieve a form of method overloading in Python using default arguments, variable-length arguments, or conditional checks within a method.\n",
        "\n",
        "Ways to achieve overloading-like behavior in Python:\n",
        "Using default arguments: You can define a method with default values for some parameters, so that it can be called with different numbers of arguments.\n",
        "\n",
        "python\n",
        "Copy\n",
        "class Example:\n",
        "    def greet(self, name=\"Guest\"):\n",
        "        print(f\"Hello, {name}!\")\n",
        "\n",
        "obj = Example()\n",
        "obj.greet()        # Output: Hello, Guest!\n",
        "obj.greet(\"John\")  # Output: Hello, John!\n",
        "**Using *args and kwargs: This allows you to pass a variable number of arguments to a method. The method can then handle different argument types and numbers dynamically.\n",
        "\n",
        "python\n",
        "Copy\n",
        "class Example:\n",
        "    def greet(self, *args):\n",
        "        if len(args) == 0:\n",
        "            print(\"Hello, Guest!\")\n",
        "        elif len(args) == 1:\n",
        "            print(f\"Hello, {args[0]}!\")\n",
        "        else:\n",
        "            print(\"Too many arguments!\")\n",
        "\n",
        "obj = Example()\n",
        "obj.greet()        # Output: Hello, Guest!\n",
        "obj.greet(\"John\")  # Output: Hello, John!\n",
        "obj.greet(\"John\", \"Jane\")  # Output: Too many arguments!\n",
        "Using conditional logic: You can also use conditional statements inside the method to check the number and type of arguments to simulate overloading.\n",
        "\n",
        "python\n",
        "Copy\n",
        "class Example:\n",
        "    def greet(self, *args):\n",
        "        if len(args) == 1 and isinstance(args[0], str):\n",
        "            print(f\"Hello, {args[0]}!\")\n",
        "        elif len(args) == 0:\n",
        "            print(\"Hello, Guest!\")\n",
        "        else:\n",
        "            print(\"Invalid input!\")\n",
        "\n",
        "obj = Example()\n",
        "obj.greet()        # Output: Hello, Guest!\n",
        "obj.greet(\"Alice\") # Output: Hello, Alice!\n",
        "So, while Python doesn't support method overloading in the traditional sense, it offers flexibility using features like default arguments, variable-length arguments, and conditionals to achieve similar behavior.\n",
        "\n",
        "\n",
        "\n"
      ],
      "metadata": {
        "id": "RL6nCyvL0I_v"
      }
    },
    {
      "cell_type": "code",
      "source": [],
      "metadata": {
        "id": "_UD5JnM00bKC"
      },
      "execution_count": null,
      "outputs": []
    },
    {
      "cell_type": "markdown",
      "source": [
        "12. What is method overriding in OOP?\n",
        "Ans- Method overriding is a concept in Object-Oriented Programming (OOP) where a subclass provides a specific implementation of a method that is already defined in its superclass. When a subclass overrides a method, it replaces the version of that method inherited from the superclass. This allows the subclass to provide its own behavior for the method while maintaining the same method signature (name, parameters) as the superclass."
      ],
      "metadata": {
        "id": "7wUlennc0bzs"
      }
    },
    {
      "cell_type": "code",
      "source": [],
      "metadata": {
        "id": "ugLyO8gR0t4b"
      },
      "execution_count": null,
      "outputs": []
    },
    {
      "cell_type": "markdown",
      "source": [
        "13. What is a property decorator in Python?\n",
        "Ans-In Python, the property decorator is a built-in decorator that allows you to define methods that can be accessed like attributes. It provides a way to define methods that act as getter, setter, or deleter functions for attributes, but without the need to explicitly call those methods like regular functions.\n",
        "\n",
        "Using the property decorator makes your code cleaner, as it allows you to manage how an attribute is accessed or modified without changing how it’s used in code."
      ],
      "metadata": {
        "id": "SHZYK7yJ0udT"
      }
    },
    {
      "cell_type": "code",
      "source": [],
      "metadata": {
        "id": "EKRO0w7m08u2"
      },
      "execution_count": null,
      "outputs": []
    },
    {
      "cell_type": "markdown",
      "source": [
        "14. Why is polymorphism important in OOP?\n",
        "Ans-Polymorphism is one of the fundamental principles of Object-Oriented Programming (OOP), and it plays a crucial role in making code more flexible, reusable, and maintainable. The word \"polymorphism\" comes from Greek, meaning \"many forms,\" and it refers to the ability of different objects to respond to the same method or message in different ways.\n",
        "\n",
        "In simpler terms, polymorphism allows different classes to implement methods that share the same name but may have different implementations, making the behavior dynamic and context-specific.\n",
        "\n",
        "Why Polymorphism is Important in OOP:\n",
        "Code Reusability: Polymorphism allows you to write generic code that works with objects of different classes. This leads to code reuse, as the same method or function can be used on different types of objects without needing to know their specific types.\n",
        "\n",
        "Example: If you have a base class Shape and subclasses Circle and Rectangle, you can write a function that works with all shapes without worrying about their specific type.\n",
        "\n",
        "python\n",
        "Copy\n",
        "class Shape:\n",
        "    def draw(self):\n",
        "        pass\n",
        "\n",
        "class Circle(Shape):\n",
        "    def draw(self):\n",
        "        print(\"Drawing a circle\")\n",
        "\n",
        "class Rectangle(Shape):\n",
        "    def draw(self):\n",
        "        print(\"Drawing a rectangle\")\n",
        "\n",
        "def draw_shape(shape: Shape):\n",
        "    shape.draw()  # Will work for any shape (Circle, Rectangle, etc.)\n",
        "\n",
        "circle = Circle()\n",
        "rectangle = Rectangle()\n",
        "\n",
        "draw_shape(circle)     # Output: Drawing a circle\n",
        "draw_shape(rectangle)  # Output: Drawing a rectangle\n",
        "Simplifies Code Maintenance: Since polymorphism allows the same method name to work differently depending on the object, it reduces the need to write multiple functions for similar behavior across different types. This makes the code easier to maintain, as you only need to modify one method in the parent class (or interface) and rely on the subclass implementations to follow the same structure.\n",
        "\n",
        "Improved Flexibility: Polymorphism increases the flexibility of your code. For example, if you have a function that works with multiple types of objects, you can pass in any object that is a subclass of a common parent, without worrying about its specific class. This means your code can handle a variety of objects more easily.\n",
        "\n",
        "Example: A function that processes different kinds of payment methods (CreditCard, PayPal, BankTransfer), all of which are subclasses of a base class PaymentMethod.\n",
        "\n",
        "python\n",
        "Copy\n",
        "class PaymentMethod:\n",
        "    def process_payment(self, amount):\n",
        "        pass\n",
        "\n",
        "class CreditCard(PaymentMethod):\n",
        "    def process_payment(self, amount):\n",
        "        print(f\"Processing credit card payment of {amount}\")\n",
        "\n",
        "class PayPal(PaymentMethod):\n",
        "    def process_payment(self, amount):\n",
        "        print(f\"Processing PayPal payment of {amount}\")\n",
        "\n",
        "def process_transaction(payment: PaymentMethod, amount: float):\n",
        "    payment.process_payment(amount)\n",
        "\n",
        "credit_card = CreditCard()\n",
        "paypal = PayPal()\n",
        "\n",
        "process_transaction(credit_card, 100)  # Output: Processing credit card payment of 100\n",
        "process_transaction(paypal, 50)         # Output: Processing PayPal payment of 50\n",
        "Enables Extensibility: Polymorphism makes your code more extensible. As your project grows, you can add new subclasses and new behaviors without changing existing code that relies on polymorphism. The new subclass can implement its own version of the method, and the existing code will still work correctly, as it interacts with the common interface or parent class.\n",
        "\n",
        "Example: You can add a Bitcoin class to the previous example without changing the process_transaction() function.\n",
        "\n",
        "python\n",
        "Copy\n",
        "class Bitcoin(PaymentMethod):\n",
        "    def process_payment(self, amount):\n",
        "        print(f\"Processing Bitcoin payment of {amount}\")\n",
        "\n",
        "bitcoin = Bitcoin()\n",
        "process"
      ],
      "metadata": {
        "id": "YM-iXZ0M09gL"
      }
    },
    {
      "cell_type": "code",
      "source": [],
      "metadata": {
        "id": "rNutibpE1REC"
      },
      "execution_count": null,
      "outputs": []
    },
    {
      "cell_type": "markdown",
      "source": [
        "15.What is an abstract class in Python?\n",
        "Ans-An abstract class in Python is a class that cannot be instantiated directly and is meant to serve as a blueprint for other classes. It is used when you want to define a common interface for a group of related classes, but you don't want to provide a complete implementation in the base class itself."
      ],
      "metadata": {
        "id": "iSA88KDq1TZ7"
      }
    },
    {
      "cell_type": "code",
      "source": [],
      "metadata": {
        "id": "vZb06GDr1eIZ"
      },
      "execution_count": null,
      "outputs": []
    },
    {
      "cell_type": "markdown",
      "source": [
        "16. What are the advantages of OOP?\n",
        "Ans-Object-Oriented Programming (OOP) offers several advantages that make it a popular paradigm for software development. OOP focuses on organizing code into objects that represent real-world entities, and it provides tools like classes, inheritance, polymorphism, encapsulation, and abstraction to structure and manage code effectively. Here are the key advantages of OOP:\n",
        "\n",
        "1. Modularity (Encapsulation)\n",
        "What it is: In OOP, classes and objects group related data and functions together. This encapsulation ensures that the internal details of an object are hidden from the outside world, and only a well-defined interface is exposed.\n",
        "Advantage: This improves the modularity of your code. You can work on individual objects or modules independently, making the system easier to manage, debug, and extend.\n",
        "Example: In a banking application, a BankAccount class might hide the details of how transactions are processed, exposing only methods like deposit() or withdraw().\n",
        "\n",
        "2. Reusability (Inheritance)\n",
        "What it is: Inheritance allows you to create new classes based on existing ones. A subclass inherits attributes and methods from its parent class and can extend or modify its behavior.\n",
        "Advantage: This promotes code reusability. Instead of rewriting code, you can reuse existing classes and extend them with new functionality, saving time and reducing errors.\n",
        "Example: A Vehicle class can be extended by subclasses like Car or Bike, which inherit common attributes and methods (like start() or stop()) but may add specific features like air_conditioning() for the Car class.\n",
        "\n",
        "3. Maintainability\n",
        "What it is: OOP organizes code into classes and objects, which helps in managing complex systems. Changes made to a class are usually localized, meaning that only the code within that class is affected.\n",
        "Advantage: This results in better maintainability. If a bug is found in a particular method or feature, it can be fixed in the class responsible for that functionality without affecting other parts of the system.\n",
        "Example: If you need to update how user authentication works, you can modify the UserAuthentication class without worrying about how it interacts with other parts of the program.\n",
        "\n",
        "4. Scalability and Extensibility\n",
        "What it is: OOP encourages designing systems in a modular way, which makes it easier to scale or extend your system by adding new classes or objects.\n",
        "Advantage: Scalability is easier in OOP. You can extend the functionality of your program by adding new objects or classes without rewriting existing code.\n",
        "Example: In a game development scenario, you can create new types of characters (like Warrior, Mage, etc.) by subclassing a generic Character class. The new character types would have their own unique behaviors but could still use common functionality inherited from the base class.\n",
        "\n",
        "5. Abstraction\n",
        "What it is: Abstraction hides the complex implementation details of a system and exposes only the necessary functionalities to the user.\n",
        "Advantage: It simplifies the interaction with objects and allows you to focus on high-level concepts. Users of an object only need to understand its public interface, not the internal workings.\n",
        "Example: When you use a Car class, you don’t need to know how the internal engine works. You only need to interact with methods like start(), stop(), and accelerate(), which abstract away the complexity.\n",
        "\n",
        "6. Polymorphism\n",
        "What it is: Polymorphism allows objects of different classes to be treated as objects of a common superclass. A subclass can override methods of its superclass, and different classes can have their own specific implementations of the same method.\n",
        "Advantage: Polymorphism promotes flexibility and adaptability. You can use a single method to operate on objects of different types, making your code more flexible and easier to extend.\n",
        "Example: A method draw() can be used for different shapes (like Circle, Square, etc.) even though each shape has its own implementation of draw(). The method can handle any type of shape uniformly.\n",
        "\n",
        "7. Improved Collaboration and Teamwork\n",
        "What it is: OOP promotes organizing code into distinct, well-defined objects. This makes it easier for different team members to work on different parts of the system simultaneously.\n",
        "Advantage: Team collaboration is easier because each developer can work on different objects (or classes) without interfering with others' work. This also allows easier integration of their individual contributions.\n",
        "8. Real-World Modeling\n",
        "What it is: OOP makes it easier to model real-world entities and behaviors by representing them as objects and classes. Real-world relationships, behaviors, and attributes can be mapped directly into the code.\n",
        "Advantage: It makes the design and understanding of systems more intuitive. Since the concepts map directly to real-world entities, the system becomes easier to understand and interact with.\n",
        "Example: In a library system, you can model entities such as Book, Member, and Loan as classes, each with properties and methods corresponding to real-world attributes and actions.\n",
        "\n",
        "9. Security and Data Protection\n",
        "What it is: Encapsulation allows you to control access to an object's internal data by restricting direct access to its attributes and only providing controlled access via methods (getters and setters).\n",
        "Advantage: This adds a layer of security and data protection to your system. You can prevent unauthorized access to critical data and ensure that data is only modified in well-defined ways.\n",
        "Example: In a BankAccount class, you might allow deposits and withdrawals to happen through methods but prevent direct access to the account balance attribute to maintain security and control over how it's changed.\n",
        "\n",
        "10. Better Debugging and Testing\n",
        "What it is: With OOP, since the functionality is grouped into objects and methods, bugs can usually be isolated to specific classes or methods.\n",
        "Advantage: Debugging becomes easier because you can isolate and test individual objects or methods. Each class and its methods can be tested independently (unit testing), ensuring that the system behaves as expected.\n",
        "Example: You can write unit tests for the add(), remove(), or update() methods of a class like ShoppingCart, ensuring that each method works correctly before integrating them into the broader system.\n",
        "\n"
      ],
      "metadata": {
        "id": "m7CDALPo1etN"
      }
    },
    {
      "cell_type": "code",
      "source": [],
      "metadata": {
        "id": "HK9ego1_11Jx"
      },
      "execution_count": null,
      "outputs": []
    },
    {
      "cell_type": "markdown",
      "source": [
        "17. What is the difference between a class variable and an instance variable?\n",
        "Ans-Class Variable:\n",
        "A class variable is a variable that is shared among all instances (objects) of a class. It is defined inside the class but outside any instance methods. Class variables have the same value for all instances of the class and are used for data that should be consistent across all instances.\n",
        "\n",
        "Instance Variable:\n",
        "An instance variable is a variable that is unique to each instance (object) of a class. It is typically defined in the constructor (__init__ in Python) and holds data that can vary between different instances of the class.\n",
        "\n",
        "2. Scope:\n",
        "Class Variable:\n",
        "Class variables belong to the class itself, not to any particular instance of the class. Therefore, they are shared by all instances of the class.\n",
        "\n",
        "Instance Variable:\n",
        "Instance variables belong to the individual instance of the class. Each object has its own copy of the instance variables, which means each object can have different values for those variables.\n",
        "\n",
        "3. Ownership:\n",
        "Class Variable:\n",
        "Class variables are owned by the class, not by any specific instance of the class. They can be accessed through both the class itself and any instance of the class.\n",
        "\n",
        "Instance Variable:\n",
        "Instance variables are owned by the instance of the class. They are created when an object is instantiated and exist only for that particular object.\n",
        "\n",
        "4. Lifetime:\n",
        "Class Variable:\n",
        "Class variables are created when the class is defined, and they exist as long as the class itself exists. Their values are shared across all instances of the class.\n",
        "\n",
        "Instance Variable:\n",
        "Instance variables are created when an object is instantiated, and they are destroyed when the object is destroyed. They exist only as long as the object exists.\n",
        "\n",
        "5. Access:\n",
        "Class Variable:\n",
        "Class variables can be accessed using both the class name and instances of the class.\n",
        "\n",
        "python\n",
        "Copy\n",
        "class Dog:\n",
        "    species = \"Canis familiaris\"  # Class variable\n",
        "\n",
        "dog1 = Dog()\n",
        "dog2 = Dog()\n",
        "\n",
        "print(dog1.species)  # Can access class variable through the instance\n",
        "print(Dog.species)   # Can access class variable through the class itself\n",
        "Instance Variable:\n",
        "Instance variables are accessed through the instance of the class.\n",
        "\n",
        "python\n",
        "Copy\n",
        "class Dog:\n",
        "    def __init__(self, name):\n",
        "        self.name = name  # Instance variable\n",
        "\n",
        "dog1 = Dog(\"Rex\")\n",
        "dog2 = Dog(\"Bella\")\n",
        "\n",
        "print(dog1.name)  # Access instance variable through the instance\n",
        "print(dog2.name)\n",
        "6. Modification:\n",
        "Class Variable:\n",
        "If a class variable is modified using an instance, the change affects all instances of the class. However, if it is modified directly through the class name, it will change the class variable itself.\n",
        "\n",
        "python\n",
        "Copy\n",
        "class Dog:\n",
        "    species = \"Canis familiaris\"  # Class variable\n",
        "\n",
        "dog1 = Dog()\n",
        "dog2 = Dog()\n",
        "\n",
        "dog1.species = \"Canis lupus\"  # This creates an instance variable for dog1, not modifying the class variable\n",
        "\n",
        "print(dog1.species)  # Output: Canis lupus (instance variable for dog1)\n",
        "print(dog2.species)  # Output: Canis familiaris (class variable, unchanged)\n",
        "Instance Variable:\n",
        "Instance variables can be modified individually for each object. Modifying an instance variable only affects the specific object.\n",
        "\n",
        "python\n",
        "Copy\n",
        "class Dog:\n",
        "    def __init__(self, name):\n",
        "        self.name = name  # Instance variable\n",
        "\n",
        "dog1 = Dog(\"Rex\")\n",
        "dog2 = Dog(\"Bella\")\n",
        "\n",
        "dog1.name = \"Max\"  # This changes the instance variable for dog1 only\n",
        "print(dog1.name)  # Output: Max\n",
        "print(dog2.name)  # Output: Bella (unchanged)\n",
        "7. Example of Class Variable vs Instance Variable:\n",
        "python\n",
        "Copy\n",
        "class Car:\n",
        "    # Class variable\n",
        "    wheels = 4  # All cars have 4 wheels by default\n",
        "    \n",
        "    def __init__(self, brand, model):\n",
        "        # Instance variables\n",
        "        self.brand = brand\n",
        "        self.model = model\n",
        "\n",
        "# Creating objects (instances) of the Car class\n",
        "car1 = Car(\"Toyota\", \"Corolla\")\n",
        "car2 = Car(\"Honda\", \"Civic\")\n",
        "\n",
        "# Accessing class variable\n",
        "print(car1.wheels)  # Output: 4\n",
        "print(car2.wheels)  # Output: 4\n",
        "print(Car.wheels)    # Output: 4 (can also be accessed via the class)\n",
        "\n",
        "# Accessing instance variables\n",
        "print(car1.brand)  # Output: Toyota\n",
        "print(car2.brand)  # Output: Honda\n",
        "\n",
        "# Modifying instance variable\n",
        "car1.model = \"Camry\"\n",
        "print(car1.model)  # Output: Camry\n",
        "\n",
        "# Class variables are shared across all instances\n",
        "Car.wheels = 6  # Changing the class variable via the class\n",
        "print(car1.wheels)  # Output: 6\n",
        "print(car2.wheels)  # Output: 6"
      ],
      "metadata": {
        "id": "y45RQi_H13Bx"
      }
    },
    {
      "cell_type": "code",
      "source": [],
      "metadata": {
        "id": "VwOb7BrN2ScX"
      },
      "execution_count": null,
      "outputs": []
    },
    {
      "cell_type": "markdown",
      "source": [
        "18.What is multiple inheritance in Python?\n",
        "Ans-Multiple inheritance in Python refers to a feature where a class can inherit attributes and methods from more than one parent class. This allows a class to combine functionality from multiple classes, making it versatile and enabling code reuse."
      ],
      "metadata": {
        "id": "af88qXE52VrP"
      }
    },
    {
      "cell_type": "code",
      "source": [],
      "metadata": {
        "id": "kL-fqWcN2jxe"
      },
      "execution_count": null,
      "outputs": []
    },
    {
      "cell_type": "markdown",
      "source": [
        "19.Explain the purpose of ‘’__str__’ and ‘__repr__’ ‘ methods in Python\n",
        "Ans-In Python, the __str__ and __repr__ methods are special methods (also known as dunder methods) that define how an object is represented as a string. They serve different purposes, depending on how the string representation is intended to be used. Here's an explanation of each:\n",
        "\n",
        "1. __str__ Method:\n",
        "Purpose:\n",
        "The __str__ method is designed to provide a user-friendly or informal string representation of an object.\n",
        "It's meant to return a string that is easy to read and makes sense to the end user or someone interacting with the program.\n",
        "When is it used?\n",
        "It is invoked by functions like print() or str() to display the object.\n",
        "It is for displaying information to the user in a human-readable format.\n",
        "Example:\n",
        "python\n",
        "Copy\n",
        "class Dog:\n",
        "    def __init__(self, name, age):\n",
        "        self.name = name\n",
        "        self.age = age\n",
        "    \n",
        "    def __str__(self):\n",
        "        return f\"{self.name} is a {self.age}-year-old dog\"\n",
        "        \n",
        "# Create an object of Dog\n",
        "dog = Dog(\"Buddy\", 4)\n",
        "\n",
        "# Print the dog object\n",
        "print(dog)  # This will call the __str__ method\n",
        "Output:\n",
        "\n",
        "sql\n",
        "Copy\n",
        "Buddy is a 4-year-old dog\n",
        "Here, the __str__ method provides a user-friendly description of the dog object, which is what would be printed when using print().\n",
        "2. __repr__ Method:\n",
        "Purpose:\n",
        "The __repr__ method is designed to provide a developer-friendly or formal string representation of an object.\n",
        "It aims to return a string that, ideally, could be used to recreate the object if evaluated. It's often more detailed and includes more technical information about the object.\n",
        "When is it used?\n",
        "It is called by the repr() function and when you enter the object in the Python interactive shell (e.g., when you type the object name and hit Enter).\n",
        "It is mainly for debugging and development purposes, providing a more detailed view of the object.\n",
        "Example:\n",
        "python\n",
        "Copy\n",
        "class Dog:\n",
        "    def __init__(self, name, age):\n",
        "        self.name = name\n",
        "        self.age = age\n",
        "    \n",
        "    def __repr__(self):\n",
        "        return f\"Dog('{self.name}', {self.age})\"\n",
        "        \n",
        "# Create an object of Dog\n",
        "dog = Dog(\"Buddy\", 4)\n",
        "\n",
        "# Print the dog object using repr (in interactive shell or using repr())\n",
        "print(repr(dog))  # This will call the __repr__ method\n",
        "Output:\n",
        "\n",
        "scss\n",
        "Copy\n",
        "Dog('Buddy', 4)\n",
        "The __repr__ method provides a more formal, unambiguous representation of the object that would allow a developer to recreate the object, which is useful during debugging or logging.\n",
        "Differences Between __str__ and __repr__:\n",
        "Aspect\t__str__\t__repr__\n",
        "Purpose\tUser-friendly, informal string representation.\tDeveloper-friendly, formal string representation.\n",
        "Called By\tprint() and str() functions.\trepr() function and the interactive shell.\n",
        "Return Value\tA string that is easy to read and understand for the user.\tA string that ideally could recreate the object, or at least is more precise for debugging.\n",
        "Example Output\t\"Buddy is a 4-year-old dog\"\t\"Dog('Buddy', 4)\"\n"
      ],
      "metadata": {
        "id": "m7m0wDV-2lO7"
      }
    },
    {
      "cell_type": "code",
      "source": [],
      "metadata": {
        "id": "Zcu3T8Ur3GHn"
      },
      "execution_count": null,
      "outputs": []
    },
    {
      "cell_type": "markdown",
      "source": [
        "20.  What is the significance of the ‘super()’ function in Python?\n",
        "Ans-The super() function in Python is used to call methods from a parent class (or superclass) within a child class (or subclass). It is commonly used in inheritance to invoke methods from the parent class, especially in the context of method overriding, or when the child class needs to extend the behavior of the parent class rather than completely replacing it.\n",
        "\n",
        "Significance of super() in Python:\n",
        "Calling Parent Class Methods:\n",
        "\n",
        "super() allows a method in a child class to call a method from its parent class. This is useful when you want to extend or modify the behavior of an inherited method without completely overriding it.\n",
        "Avoiding Direct Parent Class Reference:\n",
        "\n",
        "Using super() avoids the need to directly reference the parent class by name. This makes the code more maintainable, especially when dealing with multiple inheritance.\n",
        "Supports Multiple Inheritance:\n",
        "\n",
        "In Python, which supports multiple inheritance, super() plays a key role in ensuring that the method resolution order (MRO) is followed correctly. It ensures that the method call flows through all the classes in the inheritance chain in the correct order.\n",
        "Accessing Constructor (__init__) of Parent Class:\n",
        "\n",
        "In many cases, super() is used in the __init__ method to ensure the initialization of the parent class when creating instances of the child class.\n",
        "\n"
      ],
      "metadata": {
        "id": "_GFt7ExU3GtK"
      }
    },
    {
      "cell_type": "code",
      "source": [],
      "metadata": {
        "id": "9zy7xhtY3WLR"
      },
      "execution_count": null,
      "outputs": []
    },
    {
      "cell_type": "markdown",
      "source": [
        "21.What is the significance of the __del__ method in Python?\n",
        "Ans-The __del__ method in Python is a special method that is called when an object is about to be destroyed or deleted. It is often referred to as a destructor. The main purpose of __del__ is to allow an object to perform any necessary cleanup before it is removed from memory, such as releasing resources or closing connections.\n",
        "\n",
        "Significance of the __del__ Method in Python:\n",
        "Object Cleanup:\n",
        "\n",
        "The __del__ method allows an object to release any resources it might have acquired during its lifetime. This is particularly useful for managing external resources such as files, network connections, or database connections that need to be explicitly closed when they are no longer needed.\n",
        "Resource Management:\n",
        "\n",
        "If your class interacts with external systems (like files or network connections), you may want to ensure that those resources are properly cleaned up once the object is no longer in use. The __del__ method is one way to do this.\n",
        "Memory Management:\n",
        "\n",
        "Python has automatic memory management with garbage collection. However, there are cases where some cleanup tasks, such as deleting files or closing sockets, are not handled automatically by the garbage collector. The __del__ method can be used to handle those tasks before the object is deleted."
      ],
      "metadata": {
        "id": "x4h99O5f3W3m"
      }
    },
    {
      "cell_type": "code",
      "source": [],
      "metadata": {
        "id": "DWP9mKuI3yMt"
      },
      "execution_count": null,
      "outputs": []
    },
    {
      "cell_type": "markdown",
      "source": [
        "22.What is the difference between @staticmethod and @classmethod in Python?\n",
        "Ans-In Python, both @staticmethod and @classmethod are decorators that allow methods to be defined that are not bound to an instance of the class. However, they differ significantly in terms of how they access class-level and instance-level data. Below is a detailed comparison of both decorators:\n",
        "\n",
        "1. @staticmethod:\n",
        "Definition:\n",
        "A method defined with @staticmethod does not take any special first argument, like self or cls.\n",
        "It behaves like a regular function that is logically part of the class but has no access to the instance or the class.\n",
        "When to Use:\n",
        "Use @staticmethod when you want a method that doesn't need to access or modify the instance (self) or class (cls), but you want to logically associate the method with the class.\n",
        "Parameters:\n",
        "Static methods do not take self (the instance) or cls (the class) as an argument. They only take parameters explicitly passed to them when called.\n",
        "Example:\n",
        "python\n",
        "Copy\n",
        "class Calculator:\n",
        "    @staticmethod\n",
        "    def add(x, y):\n",
        "        return x + y\n",
        "\n",
        "# Calling static method without an instance\n",
        "result = Calculator.add(5, 3)\n",
        "print(result)  # Output: 8\n",
        "Here, add is a static method. It doesn't use self or cls, and it behaves like a regular function inside the class.\n",
        "2. @classmethod:\n",
        "Definition:\n",
        "A method defined with @classmethod takes the class (cls) as its first parameter, not the instance (self).\n",
        "It can access or modify class-level attributes and methods.\n",
        "When to Use:\n",
        "Use @classmethod when you need to interact with or modify class-level data (shared across all instances).\n",
        "It is also useful for factory methods that create instances of the class.\n",
        "Parameters:\n",
        "Class methods do take cls as their first argument. This allows them to access and modify class-level attributes and methods.\n",
        "Example:\n",
        "python\n",
        "Copy\n",
        "class Dog:\n",
        "    species = \"Canis familiaris\"  # Class attribute\n",
        "\n",
        "    def __init__(self, name):\n",
        "        self.name = name\n",
        "\n",
        "    @classmethod\n",
        "    def get_species(cls):\n",
        "        return cls.species\n",
        "\n",
        "# Calling the class method using the class\n",
        "print(Dog.get_species())  # Output: Canis familiaris\n",
        "\n",
        "# Calling the class method using an instance\n",
        "dog = Dog(\"Buddy\")\n",
        "print(dog.get_species())  # Output: Canis familiaris\n",
        "Here, get_species is a class method that accesses the class-level attribute species using cls.\n",
        "Key Differences Between @staticmethod and @classmethod:\n",
        "Aspect\t@staticmethod\t@classmethod\n",
        "First Argument\tDoes not take self (instance) or cls (class).\tTakes cls, which is the class itself.\n",
        "Access to Instance\tCannot access instance-level data or methods.\tCan access and modify class-level attributes and methods.\n",
        "Access to Class\tCannot access or modify class-level data directly.\tCan access or modify class-level data through cls.\n",
        "Typical Use Case\tFor utility functions that belong logically to the class but don't need to interact with class or instance data.\tFor methods that need access to or modify class-level data, or for factory methods that create class instances.\n",
        "Call Type\tCan be called on the class or an instance.\tCan also be called on the class or an instance, but operates on the class.\n",
        "Example\tSimple utility function, e.g., a calculation or conversion method.\tMethod that operates on class-level attributes, such as a factory method or class-level behavior.\n"
      ],
      "metadata": {
        "id": "g6xYq4013y_o"
      }
    },
    {
      "cell_type": "markdown",
      "source": [],
      "metadata": {
        "id": "P6fgTvxb4UiO"
      }
    },
    {
      "cell_type": "markdown",
      "source": [
        "23.How does polymorphism work in Python with inheritance?\n",
        "Ans-In Python, polymorphism is achieved through method overriding, where a subclass provides its own implementation of a method that is already defined in its superclass.\n",
        "\n",
        "Key Points of Polymorphism in Python:\n",
        "Method Overriding: A subclass can define a method with the same name as a method in its superclass. When the method is called on an instance of the subclass, Python will use the subclass’s version of the method.\n",
        "Dynamic Typing: Python's dynamic nature allows you to call methods on objects without needing to know their specific class, as long as they have the expected methods.\n",
        "Example: Polymorphism with Inheritance\n",
        "Let's demonstrate polymorphism using an example where we have a common superclass called Animal, and two subclasses called Dog and Cat.\n",
        "\n",
        "python\n",
        "Copy\n",
        "class Animal:\n",
        "    def speak(self):\n",
        "        raise NotImplementedError(\"Subclass must implement abstract method\")\n",
        "\n",
        "class Dog(Animal):\n",
        "    def speak(self):\n",
        "        return \"Woof!\"\n",
        "\n",
        "class Cat(Animal):\n",
        "    def speak(self):\n",
        "        return \"Meow!\"\n",
        "\n",
        "# Creating instances of the subclasses\n",
        "dog = Dog()\n",
        "cat = Cat()\n",
        "\n",
        "# Calling the speak method on both objects (polymorphism in action)\n",
        "print(dog.speak())  # Output: Woof!\n",
        "print(cat.speak())  # Output: Meow!"
      ],
      "metadata": {
        "id": "iYQMdvGr4Yzp"
      }
    },
    {
      "cell_type": "code",
      "source": [],
      "metadata": {
        "id": "N8_iQgtb4OCK"
      },
      "execution_count": null,
      "outputs": []
    },
    {
      "cell_type": "markdown",
      "source": [
        "24.What is method chaining in Python OOP?\n",
        "Ans-Method chaining in Python is a programming technique where multiple method calls are made on the same object in a single line of code. This is possible because each method returns the object itself (or a reference to the object), which allows subsequent methods to be called on that object.\n",
        "\n",
        "In object-oriented programming (OOP), method chaining is commonly used to make the code more concise and readable, especially when you want to apply several methods sequentially to an object.\n",
        "\n"
      ],
      "metadata": {
        "id": "XqUDNuQK4h2d"
      }
    },
    {
      "cell_type": "code",
      "source": [],
      "metadata": {
        "id": "MQPqA2Ab4zIs"
      },
      "execution_count": null,
      "outputs": []
    },
    {
      "cell_type": "markdown",
      "source": [
        "25.What is the purpose of the __call__ method in Python?\n",
        "Ans-Making Objects Callable: By defining __call__, you enable an object to behave like a function, meaning you can \"call\" the object directly, passing arguments to it.\n",
        "Custom Functionality: It provides a way to define custom behavior when an object is invoked (called), offering more flexibility in how objects behave.\n",
        "Functional Interfaces: It is useful when you want to have a function-like interface in your class but also want to maintain state or additional functionality."
      ],
      "metadata": {
        "id": "6SZNtLCy4zv6"
      }
    },
    {
      "cell_type": "code",
      "source": [],
      "metadata": {
        "id": "TKH1j7ny5KOO"
      },
      "execution_count": null,
      "outputs": []
    },
    {
      "cell_type": "markdown",
      "source": [
        "Practical Questions-\n"
      ],
      "metadata": {
        "id": "iaUaUeYs5Ncv"
      }
    },
    {
      "cell_type": "code",
      "source": [
        "#1. Create a parent class Animal with a method speak() that prints a generic message. Create a child class Dog\n",
        "that overrides the speak() method to print \"Bark!\".\n",
        "Ans-Code Implementation:\n",
        "python\n",
        "Copy\n",
        "# Parent class Animal\n",
        "class Animal:\n",
        "    def speak(self):\n",
        "        print(\"This animal makes a sound.\")\n",
        "\n",
        "# Child class Dog that overrides speak() method\n",
        "class Dog(Animal):\n",
        "    def speak(self):\n",
        "        print(\"Bark!\")\n",
        "\n",
        "# Create an instance of Animal\n",
        "animal = Animal()\n",
        "animal.speak()  # Output: This animal makes a sound.\n",
        "\n",
        "# Create an instance of Dog\n",
        "dog = Dog()\n",
        "dog.speak()  # Output: Bark!"
      ],
      "metadata": {
        "colab": {
          "base_uri": "https://localhost:8080/",
          "height": 106
        },
        "id": "jPleWrjd5VaC",
        "outputId": "8439a408-87d1-43d6-e81d-865a196204a8"
      },
      "execution_count": 1,
      "outputs": [
        {
          "output_type": "error",
          "ename": "SyntaxError",
          "evalue": "invalid syntax (<ipython-input-1-8c9b66b9c7f8>, line 2)",
          "traceback": [
            "\u001b[0;36m  File \u001b[0;32m\"<ipython-input-1-8c9b66b9c7f8>\"\u001b[0;36m, line \u001b[0;32m2\u001b[0m\n\u001b[0;31m    that overrides the speak() method to print \"Bark!\".\u001b[0m\n\u001b[0m         ^\u001b[0m\n\u001b[0;31mSyntaxError\u001b[0m\u001b[0;31m:\u001b[0m invalid syntax\n"
          ]
        }
      ]
    },
    {
      "cell_type": "code",
      "source": [
        "#2.Write a program to create an abstract class Shape with a method area(). Derive classes Circle and Rectangle\n",
        "from it and implement the area() method in both\n",
        "Ans-Code Implementation:\n",
        "python\n",
        "Copy\n",
        "from abc import ABC, abstractmethod\n",
        "import math\n",
        "\n",
        "# Abstract class Shape\n",
        "class Shape(ABC):\n",
        "    @abstractmethod\n",
        "    def area(self):\n",
        "        pass\n",
        "\n",
        "# Derived class Circle\n",
        "class Circle(Shape):\n",
        "    def __init__(self, radius):\n",
        "        self.radius = radius\n",
        "\n",
        "    def area(self):\n",
        "        return math.pi * self.radius ** 2  # Area of a circle: πr²\n",
        "\n",
        "# Derived class Rectangle\n",
        "class Rectangle(Shape):\n",
        "    def __init__(self, width, height):\n",
        "        self.width = width\n",
        "        self.height = height\n",
        "\n",
        "    def area(self):\n",
        "        return self.width * self.height  # Area of a rectangle: width * height\n",
        "\n",
        "# Creating objects and calculating the area\n",
        "circle = Circle(5)\n",
        "print(\"Area of Circle:\", circle.area())  # Output: Area of Circle: 78.53981633974483\n",
        "\n",
        "rectangle = Rectangle(4, 6)\n",
        "print(\"Area of Rectangle:\", rectangle.area())  # Output: Area of Rectangle: 24"
      ],
      "metadata": {
        "colab": {
          "base_uri": "https://localhost:8080/",
          "height": 106
        },
        "id": "fBrAFFdp5lNs",
        "outputId": "73badb0d-c605-4922-8b4f-01739b334532"
      },
      "execution_count": 2,
      "outputs": [
        {
          "output_type": "error",
          "ename": "SyntaxError",
          "evalue": "invalid syntax (<ipython-input-2-3771491b2aae>, line 2)",
          "traceback": [
            "\u001b[0;36m  File \u001b[0;32m\"<ipython-input-2-3771491b2aae>\"\u001b[0;36m, line \u001b[0;32m2\u001b[0m\n\u001b[0;31m    from it and implement the area() method in both\u001b[0m\n\u001b[0m            ^\u001b[0m\n\u001b[0;31mSyntaxError\u001b[0m\u001b[0;31m:\u001b[0m invalid syntax\n"
          ]
        }
      ]
    },
    {
      "cell_type": "code",
      "source": [
        "#3.Implement a multi-level inheritance scenario where a class Vehicle has an attribute type. Derive a class Car\n",
        "and further derive a class ElectricCar that adds a battery attribute\n",
        "Ans-Code Implementation:\n",
        "python\n",
        "Copy\n",
        "# Base class Vehicle\n",
        "class Vehicle:\n",
        "    def __init__(self, vehicle_type):\n",
        "        self.vehicle_type = vehicle_type  # Attribute to store the type of the vehicle\n",
        "\n",
        "    def display_type(self):\n",
        "        print(f\"This is a {self.vehicle_type}.\")\n",
        "\n",
        "# Derived class Car that inherits from Vehicle\n",
        "class Car(Vehicle):\n",
        "    def __init__(self, vehicle_type, brand):\n",
        "        super().__init__(vehicle_type)  # Calling the parent class constructor\n",
        "        self.brand = brand  # Attribute specific to Car\n",
        "\n",
        "    def display_brand(self):\n",
        "        print(f\"This car is a {self.brand}.\")\n",
        "\n",
        "# Derived class ElectricCar that inherits from Car\n",
        "class ElectricCar(Car):\n",
        "    def __init__(self, vehicle_type, brand, battery):\n",
        "        super().__init__(vehicle_type, brand)  # Calling the parent class constructor\n",
        "        self.battery = battery  # Attribute specific to ElectricCar\n",
        "\n",
        "    def display_battery(self):\n",
        "        print(f\"This electric car has a {self.battery} kWh battery.\")\n",
        "\n",
        "# Creating an instance of ElectricCar\n",
        "electric_car = ElectricCar(\"Electric Vehicle\", \"Tesla\", 75)\n",
        "\n",
        "# Displaying the attributes using the methods\n",
        "electric_car.display_type()     # Output: This is an Electric Vehicle.\n",
        "electric_car.display_brand()    # Output: This car is a Tesla.\n",
        "electric_car.display_battery()  # Output: This electric car has a 75 kWh battery"
      ],
      "metadata": {
        "colab": {
          "base_uri": "https://localhost:8080/",
          "height": 106
        },
        "id": "TyelmnvX55Sc",
        "outputId": "3abffd56-663b-40ae-bf33-e794226cc614"
      },
      "execution_count": 3,
      "outputs": [
        {
          "output_type": "error",
          "ename": "SyntaxError",
          "evalue": "invalid syntax (<ipython-input-3-4066c456bef0>, line 2)",
          "traceback": [
            "\u001b[0;36m  File \u001b[0;32m\"<ipython-input-3-4066c456bef0>\"\u001b[0;36m, line \u001b[0;32m2\u001b[0m\n\u001b[0;31m    and further derive a class ElectricCar that adds a battery attribute\u001b[0m\n\u001b[0m    ^\u001b[0m\n\u001b[0;31mSyntaxError\u001b[0m\u001b[0;31m:\u001b[0m invalid syntax\n"
          ]
        }
      ]
    },
    {
      "cell_type": "code",
      "source": [
        "#4.Demonstrate polymorphism by creating a base class Bird with a method fly(). Create two derived classes\n",
        "Sparrow and Penguin that override the fly() method.\n",
        "\n",
        "Ans-Code Implementation:\n",
        "python\n",
        "Copy\n",
        "# Base class Bird\n",
        "class Bird:\n",
        "    def fly(self):\n",
        "        print(\"This bird can fly.\")\n",
        "\n",
        "# Derived class Sparrow that overrides the fly() method\n",
        "class Sparrow(Bird):\n",
        "    def fly(self):\n",
        "        print(\"The sparrow flies gracefully in the sky.\")\n",
        "\n",
        "# Derived class Penguin that overrides the fly() method\n",
        "class Penguin(Bird):\n",
        "    def fly(self):\n",
        "        print(\"The penguin cannot fly, but it can swim.\")\n",
        "\n",
        "# Demonstrating polymorphism\n",
        "def make_bird_fly(bird):\n",
        "    bird.fly()  # Calls the fly() method of the specific bird object\n",
        "\n",
        "# Creating instances of Sparrow and Penguin\n",
        "sparrow = Sparrow()\n",
        "penguin = Penguin()\n",
        "\n",
        "# Polymorphism in action: passing different bird objects to the same function\n",
        "make_bird_fly(sparrow)   # Output: The sparrow flies gracefully in the sky.\n",
        "make_bird_fly(penguin)   # Output: The penguin cannot fly, but it can swim."
      ],
      "metadata": {
        "colab": {
          "base_uri": "https://localhost:8080/",
          "height": 106
        },
        "id": "fu81jZos6XDw",
        "outputId": "dde029dd-4038-4cf8-a714-59272c7c267c"
      },
      "execution_count": 4,
      "outputs": [
        {
          "output_type": "error",
          "ename": "SyntaxError",
          "evalue": "invalid syntax (<ipython-input-4-c185f67e11c6>, line 2)",
          "traceback": [
            "\u001b[0;36m  File \u001b[0;32m\"<ipython-input-4-c185f67e11c6>\"\u001b[0;36m, line \u001b[0;32m2\u001b[0m\n\u001b[0;31m    Sparrow and Penguin that override the fly() method.\u001b[0m\n\u001b[0m                        ^\u001b[0m\n\u001b[0;31mSyntaxError\u001b[0m\u001b[0;31m:\u001b[0m invalid syntax\n"
          ]
        }
      ]
    },
    {
      "cell_type": "code",
      "source": [
        "#5. Write a program to demonstrate encapsulation by creating a class BankAccount with private attributes\n",
        "balance and methods to deposit, withdraw, and check balance.\n",
        "Ans-Code Implementation:\n",
        "python\n",
        "Copy\n",
        "class BankAccount:\n",
        "    def __init__(self, initial_balance=0):\n",
        "        # Private attribute for balance\n",
        "        self.__balance = initial_balance\n",
        "\n",
        "    # Public method to deposit money\n",
        "    def deposit(self, amount):\n",
        "        if amount > 0:\n",
        "            self.__balance += amount\n",
        "            print(f\"Deposited ${amount}. Current balance: ${self.__balance}\")\n",
        "        else:\n",
        "            print(\"Deposit amount must be positive.\")\n",
        "\n",
        "    # Public method to withdraw money\n",
        "    def withdraw(self, amount):\n",
        "        if amount > 0 and amount <= self.__balance:\n",
        "            self.__balance -= amount\n",
        "            print(f\"Withdrew ${amount}. Current balance: ${self.__balance}\")\n",
        "        elif amount > self.__balance:\n",
        "            print(\"Insufficient balance.\")\n",
        "        else:\n",
        "            print(\"Withdrawal amount must be positive.\")\n",
        "\n",
        "    # Public method to check the current balance\n",
        "    def check_balance(self):\n",
        "        print(f\"Current balance: ${self.__balance}\")\n",
        "\n",
        "# Creating an instance of BankAccount\n",
        "account = BankAccount(1000)  # Initial balance of $1000\n",
        "\n",
        "# Demonstrating the methods\n",
        "account.check_balance()  # Output: Current balance: $1000\n",
        "account.deposit(500)     # Output: Deposited $500. Current balance: $1500\n",
        "account.withdraw(300)    # Output: Withdrew $300. Current balance: $1200\n",
        "account.withdraw(2000)   # Output: Insufficient balance.\n",
        "account.check_balance()  # Output: Current balance: $1200"
      ],
      "metadata": {
        "colab": {
          "base_uri": "https://localhost:8080/",
          "height": 106
        },
        "id": "kuMl_JIH6m4-",
        "outputId": "84ca3a0e-7b60-4ec5-ab1d-0027d4ab2110"
      },
      "execution_count": 5,
      "outputs": [
        {
          "output_type": "error",
          "ename": "SyntaxError",
          "evalue": "invalid syntax (<ipython-input-5-9c1e669755d1>, line 2)",
          "traceback": [
            "\u001b[0;36m  File \u001b[0;32m\"<ipython-input-5-9c1e669755d1>\"\u001b[0;36m, line \u001b[0;32m2\u001b[0m\n\u001b[0;31m    balance and methods to deposit, withdraw, and check balance.\u001b[0m\n\u001b[0m                        ^\u001b[0m\n\u001b[0;31mSyntaxError\u001b[0m\u001b[0;31m:\u001b[0m invalid syntax\n"
          ]
        }
      ]
    },
    {
      "cell_type": "code",
      "source": [
        "#6.Demonstrate runtime polymorphism using a method play() in a base class Instrument. Derive classes Guitar\n",
        "and Piano that implement their own version of play().\n",
        "Ans-Code Implementation:\n",
        "python\n",
        "Copy\n",
        "# Base class Instrument\n",
        "class Instrument:\n",
        "    def play(self):\n",
        "        print(\"Playing the instrument.\")\n",
        "\n",
        "# Derived class Guitar\n",
        "class Guitar(Instrument):\n",
        "    def play(self):\n",
        "        print(\"Strumming the guitar.\")\n",
        "\n",
        "# Derived class Piano\n",
        "class Piano(Instrument):\n",
        "    def play(self):\n",
        "        print(\"Playing the piano keys.\")\n",
        "\n",
        "# Function to demonstrate runtime polymorphism\n",
        "def perform_play(instrument):\n",
        "    instrument.play()  # The appropriate 'play' method is called based on the object's type\n",
        "\n",
        "# Creating instances of Guitar and Piano\n",
        "guitar = Guitar()\n",
        "piano = Piano()\n",
        "\n",
        "# Demonstrating runtime polymorphism\n",
        "perform_play(guitar)  # Output: Strumming the guitar.\n",
        "perform_play(piano)   # Output: Playing the piano keys."
      ],
      "metadata": {
        "colab": {
          "base_uri": "https://localhost:8080/",
          "height": 106
        },
        "id": "wZgeqMOt67wq",
        "outputId": "6cd9d914-2ab3-4b51-d87d-5a3c7b2dc4ea"
      },
      "execution_count": 6,
      "outputs": [
        {
          "output_type": "error",
          "ename": "SyntaxError",
          "evalue": "invalid syntax (<ipython-input-6-6897426bc825>, line 2)",
          "traceback": [
            "\u001b[0;36m  File \u001b[0;32m\"<ipython-input-6-6897426bc825>\"\u001b[0;36m, line \u001b[0;32m2\u001b[0m\n\u001b[0;31m    and Piano that implement their own version of play().\u001b[0m\n\u001b[0m    ^\u001b[0m\n\u001b[0;31mSyntaxError\u001b[0m\u001b[0;31m:\u001b[0m invalid syntax\n"
          ]
        }
      ]
    },
    {
      "cell_type": "code",
      "source": [
        "#7. Create a class MathOperations with a class method add_numbers() to add two numbers and a static\n",
        "method subtract_numbers() to subtract two numbers.\n",
        "Ans-Code Implementation:\n",
        "python\n",
        "Copy\n",
        "class MathOperations:\n",
        "    # Class method to add two numbers\n",
        "    @classmethod\n",
        "    def add_numbers(cls, num1, num2):\n",
        "        return num1 + num2\n",
        "\n",
        "    # Static method to subtract two numbers\n",
        "    @staticmethod\n",
        "    def subtract_numbers(num1, num2):\n",
        "        return num1 - num2\n",
        "\n",
        "# Demonstrating the usage of class method and static method\n",
        "\n",
        "# Calling the class method to add two numbers\n",
        "sum_result = MathOperations.add_numbers(10, 5)\n",
        "print(f\"Sum: {sum_result}\")  # Output: Sum: 15\n",
        "\n",
        "# Calling the static method to subtract two numbers\n",
        "difference_result = MathOperations.subtract_numbers(10, 5)\n",
        "print(f\"Difference: {difference_result}\")  # Output: Difference: 5"
      ],
      "metadata": {
        "colab": {
          "base_uri": "https://localhost:8080/",
          "height": 106
        },
        "id": "hsE7be2x7T5l",
        "outputId": "a68d68b5-ecba-414c-f416-c106e198af11"
      },
      "execution_count": 7,
      "outputs": [
        {
          "output_type": "error",
          "ename": "SyntaxError",
          "evalue": "invalid syntax (<ipython-input-7-76b4cb96f4b6>, line 2)",
          "traceback": [
            "\u001b[0;36m  File \u001b[0;32m\"<ipython-input-7-76b4cb96f4b6>\"\u001b[0;36m, line \u001b[0;32m2\u001b[0m\n\u001b[0;31m    method subtract_numbers() to subtract two numbers.\u001b[0m\n\u001b[0m           ^\u001b[0m\n\u001b[0;31mSyntaxError\u001b[0m\u001b[0;31m:\u001b[0m invalid syntax\n"
          ]
        }
      ]
    },
    {
      "cell_type": "code",
      "source": [
        "#8. Implement a class Person with a class method to count the total number of persons created.\n",
        "Ans-Code Implementation:\n",
        "python\n",
        "Copy\n",
        "class Person:\n",
        "    # Class variable to keep track of the total number of persons created\n",
        "    total_persons = 0\n",
        "\n",
        "    def __init__(self, name):\n",
        "        self.name = name\n",
        "        # Increment the total count whenever a new person is created\n",
        "        Person.total_persons += 1\n",
        "\n",
        "    # Class method to get the total number of persons created\n",
        "    @classmethod\n",
        "    def get_total_persons(cls):\n",
        "        return cls.total_persons\n",
        "\n",
        "# Creating instances of the Person class\n",
        "person1 = Person(\"Alice\")\n",
        "person2 = Person(\"Bob\")\n",
        "person3 = Person(\"Charlie\")\n",
        "\n",
        "# Accessing the total number of persons created using the class method\n",
        "print(f\"Total number of persons created: {Person.get_total_persons()}\")"
      ],
      "metadata": {
        "colab": {
          "base_uri": "https://localhost:8080/",
          "height": 106
        },
        "id": "mK6szxUX7qVK",
        "outputId": "0231709d-bfdc-4268-d42f-e875a1f62eff"
      },
      "execution_count": 8,
      "outputs": [
        {
          "output_type": "error",
          "ename": "SyntaxError",
          "evalue": "invalid syntax (<ipython-input-8-610d13bca26f>, line 2)",
          "traceback": [
            "\u001b[0;36m  File \u001b[0;32m\"<ipython-input-8-610d13bca26f>\"\u001b[0;36m, line \u001b[0;32m2\u001b[0m\n\u001b[0;31m    Ans-Code Implementation:\u001b[0m\n\u001b[0m             ^\u001b[0m\n\u001b[0;31mSyntaxError\u001b[0m\u001b[0;31m:\u001b[0m invalid syntax\n"
          ]
        }
      ]
    },
    {
      "cell_type": "code",
      "source": [
        "#9. Write a class Fraction with attributes numerator and denominator. Override the str method to display the\n",
        "fraction as \"numerator/denominator\".\n",
        "Ans-Code Implementation:\n",
        "python\n",
        "Copy\n",
        "class Fraction:\n",
        "    def __init__(self, numerator, denominator):\n",
        "        if denominator == 0:\n",
        "            raise ValueError(\"Denominator cannot be zero.\")\n",
        "        self.numerator = numerator\n",
        "        self.denominator = denominator\n",
        "\n",
        "    # Override the __str__ method to display the fraction as \"numerator/denominator\"\n",
        "    def __str__(self):\n",
        "        return f\"{self.numerator}/{self.denominator}\"\n",
        "\n",
        "# Creating an instance of the Fraction class\n",
        "fraction = Fraction(3, 4)\n",
        "\n",
        "# Printing the fraction using the __str__ method\n",
        "print(fraction)  # Output: 3/4"
      ],
      "metadata": {
        "colab": {
          "base_uri": "https://localhost:8080/",
          "height": 106
        },
        "id": "7l1YgxuI77BY",
        "outputId": "9a710d89-c77d-422d-e5bb-1fde40578f17"
      },
      "execution_count": 9,
      "outputs": [
        {
          "output_type": "error",
          "ename": "SyntaxError",
          "evalue": "invalid syntax (<ipython-input-9-532880fc4b6a>, line 2)",
          "traceback": [
            "\u001b[0;36m  File \u001b[0;32m\"<ipython-input-9-532880fc4b6a>\"\u001b[0;36m, line \u001b[0;32m2\u001b[0m\n\u001b[0;31m    fraction as \"numerator/denominator\".\u001b[0m\n\u001b[0m             ^\u001b[0m\n\u001b[0;31mSyntaxError\u001b[0m\u001b[0;31m:\u001b[0m invalid syntax\n"
          ]
        }
      ]
    },
    {
      "cell_type": "code",
      "source": [
        "#10. Demonstrate operator overloading by creating a class Vector and overriding the add method to add two\n",
        "vectors.\n",
        "Ans-Code Implementation:\n",
        "python\n",
        "Copy\n",
        "class Vector:\n",
        "    def __init__(self, x, y):\n",
        "        self.x = x\n",
        "        self.y = y\n",
        "\n",
        "    # Overloading the '+' operator using the __add__ method\n",
        "    def __add__(self, other):\n",
        "        # Adding the corresponding components of the two vectors\n",
        "        return Vector(self.x + other.x, self.y + other.y)\n",
        "\n",
        "    # Overriding the __str__ method to display the vector in a readable format\n",
        "    def __str__(self):\n",
        "        return f\"({self.x}, {self.y})\"\n",
        "\n",
        "# Creating two Vector instances\n",
        "vector1 = Vector(2, 3)\n",
        "vector2 = Vector(4, 1)\n",
        "\n",
        "# Adding the two vectors using the overloaded '+' operator\n",
        "result = vector1 + vector2\n",
        "\n",
        "# Printing the result\n",
        "print(f\"Vector 1: {vector1}\")\n",
        "print(f\"Vector 2: {vector2}\")\n",
        "print(f\"Sum: {result}\")"
      ],
      "metadata": {
        "colab": {
          "base_uri": "https://localhost:8080/",
          "height": 106
        },
        "id": "WLijQlT-8Swj",
        "outputId": "8a40ccb0-6af2-4b8a-9fe3-d874d4179c7f"
      },
      "execution_count": 10,
      "outputs": [
        {
          "output_type": "error",
          "ename": "SyntaxError",
          "evalue": "invalid syntax (<ipython-input-10-93018cf96f93>, line 2)",
          "traceback": [
            "\u001b[0;36m  File \u001b[0;32m\"<ipython-input-10-93018cf96f93>\"\u001b[0;36m, line \u001b[0;32m2\u001b[0m\n\u001b[0;31m    vectors.\u001b[0m\n\u001b[0m            ^\u001b[0m\n\u001b[0;31mSyntaxError\u001b[0m\u001b[0;31m:\u001b[0m invalid syntax\n"
          ]
        }
      ]
    },
    {
      "cell_type": "code",
      "source": [
        "#11. Create a class Person with attributes name and age. Add a method greet() that prints \"Hello, my name is\n",
        "{name} and I am {age} years old.\n",
        "Ans-Code Implementation:\n",
        "python\n",
        "Copy\n",
        "class Person:\n",
        "    def __init__(self, name, age):\n",
        "        # Initializing the attributes\n",
        "        self.name = name\n",
        "        self.age = age\n",
        "\n",
        "    # Method to greet the person\n",
        "    def greet(self):\n",
        "        print(f\"Hello, my name is {self.name} and I am {self.age} years old.\")\n",
        "\n",
        "# Creating an instance of Person\n",
        "person1 = Person(\"Alice\", 30)\n",
        "\n",
        "# Calling the greet method\n",
        "person1.greet()\n"
      ],
      "metadata": {
        "colab": {
          "base_uri": "https://localhost:8080/",
          "height": 106
        },
        "id": "3DMhq_aP8lxH",
        "outputId": "f912a68d-bc5a-4e30-a4cc-74099e15381a"
      },
      "execution_count": 11,
      "outputs": [
        {
          "output_type": "error",
          "ename": "SyntaxError",
          "evalue": "invalid syntax (<ipython-input-11-fd3d9703da62>, line 2)",
          "traceback": [
            "\u001b[0;36m  File \u001b[0;32m\"<ipython-input-11-fd3d9703da62>\"\u001b[0;36m, line \u001b[0;32m2\u001b[0m\n\u001b[0;31m    {name} and I am {age} years old.\u001b[0m\n\u001b[0m                 ^\u001b[0m\n\u001b[0;31mSyntaxError\u001b[0m\u001b[0;31m:\u001b[0m invalid syntax\n"
          ]
        }
      ]
    },
    {
      "cell_type": "code",
      "source": [
        "#12. Implement a class Student with attributes name and grades. Create a method average_grade() to compute\n",
        "the average of the grades.\n",
        "Ans-Code Implementation:\n",
        "python\n",
        "Copy\n",
        "class Student:\n",
        "    def __init__(self, name, grades):\n",
        "        self.name = name  # Name of the student\n",
        "        self.grades = grades  # List of grades\n",
        "\n",
        "    # Method to compute the average of the grades\n",
        "    def average_grade(self):\n",
        "        if len(self.grades) == 0:\n",
        "            return 0  # Avoid division by zero if there are no grades\n",
        "        return sum(self.grades) / len(self.grades)\n",
        "\n",
        "# Creating an instance of Student\n",
        "student1 = Student(\"Alice\", [90, 85, 88, 92])\n",
        "\n",
        "# Calling the average_grade method\n",
        "average = student1.average_grade()\n",
        "print(f\"{student1.name}'s average grade is: {average}\")"
      ],
      "metadata": {
        "colab": {
          "base_uri": "https://localhost:8080/",
          "height": 106
        },
        "id": "-L9flS9t8-rI",
        "outputId": "3b52d59c-b12b-4938-ef47-95cbceaeaf90"
      },
      "execution_count": 12,
      "outputs": [
        {
          "output_type": "error",
          "ename": "SyntaxError",
          "evalue": "invalid syntax (<ipython-input-12-a47214e1cb4a>, line 2)",
          "traceback": [
            "\u001b[0;36m  File \u001b[0;32m\"<ipython-input-12-a47214e1cb4a>\"\u001b[0;36m, line \u001b[0;32m2\u001b[0m\n\u001b[0;31m    the average of the grades.\u001b[0m\n\u001b[0m        ^\u001b[0m\n\u001b[0;31mSyntaxError\u001b[0m\u001b[0;31m:\u001b[0m invalid syntax\n"
          ]
        }
      ]
    },
    {
      "cell_type": "code",
      "source": [
        "#13. Create a class Rectangle with methods set_dimensions() to set the dimensions and area() to calculate the\n",
        "area.\n",
        "Ans-Code Implementation:\n",
        "python\n",
        "Copy\n",
        "class Rectangle:\n",
        "    def __init__(self):\n",
        "        # Initially, the dimensions are set to zero\n",
        "        self.length = 0\n",
        "        self.width = 0\n",
        "\n",
        "    # Method to set the dimensions of the rectangle\n",
        "    def set_dimensions(self, length, width):\n",
        "        self.length = length\n",
        "        self.width = width\n",
        "\n",
        "    # Method to calculate the area of the rectangle\n",
        "    def area(self):\n",
        "        return self.length * self.width\n",
        "\n",
        "# Creating an instance of Rectangle\n",
        "rectangle = Rectangle()\n",
        "\n",
        "# Setting the dimensions of the rectangle\n",
        "rectangle.set_dimensions(5, 3)\n",
        "\n",
        "# Calling the area method to calculate the area\n",
        "area = rectangle.area()\n",
        "\n",
        "# Printing the area\n",
        "print(f\"The area of the rectangle is: {area}\")"
      ],
      "metadata": {
        "colab": {
          "base_uri": "https://localhost:8080/",
          "height": 106
        },
        "id": "wbmJmSKy9PP6",
        "outputId": "ff450e53-6aaa-4041-e95c-7031cf508bca"
      },
      "execution_count": 13,
      "outputs": [
        {
          "output_type": "error",
          "ename": "SyntaxError",
          "evalue": "invalid syntax (<ipython-input-13-bc7a3d279ae4>, line 2)",
          "traceback": [
            "\u001b[0;36m  File \u001b[0;32m\"<ipython-input-13-bc7a3d279ae4>\"\u001b[0;36m, line \u001b[0;32m2\u001b[0m\n\u001b[0;31m    area.\u001b[0m\n\u001b[0m         ^\u001b[0m\n\u001b[0;31mSyntaxError\u001b[0m\u001b[0;31m:\u001b[0m invalid syntax\n"
          ]
        }
      ]
    },
    {
      "cell_type": "code",
      "source": [
        "#14.Create a class Employee with a method calculate_salary() that computes the salary based on hours worked\n",
        "and hourly rate. Create a derived class Manager that adds a bonus to the salary\n",
        "Ans-Code Implementation:\n",
        "python\n",
        "Copy\n",
        "class Employee:\n",
        "    def __init__(self, name, hours_worked, hourly_rate):\n",
        "        self.name = name\n",
        "        self.hours_worked = hours_worked\n",
        "        self.hourly_rate = hourly_rate\n",
        "\n",
        "    # Method to calculate the salary based on hours worked and hourly rate\n",
        "    def calculate_salary(self):\n",
        "        return self.hours_worked * self.hourly_rate\n",
        "\n",
        "\n",
        "class Manager(Employee):\n",
        "    def __init__(self, name, hours_worked, hourly_rate, bonus):\n",
        "        # Initialize the base class (Employee) with name, hours worked, and hourly rate\n",
        "        super().__init__(name, hours_worked, hourly_rate)\n",
        "        self.bonus = bonus\n",
        "\n",
        "    # Override the calculate_salary method to include a bonus\n",
        "    def calculate_salary(self):\n",
        "        base_salary = super().calculate_salary()  # Calculate base salary using the parent method\n",
        "        return base_salary + self.bonus\n",
        "\n",
        "\n",
        "# Create an Employee instance\n",
        "employee = Employee(\"John\", 40, 20)\n",
        "\n",
        "# Create a Manager instance\n",
        "manager = Manager(\"Alice\", 40, 30, 500)\n",
        "\n",
        "# Calculating and printing the salary for both Employee and Manager\n",
        "print(f\"{employee.name}'s salary is: ${employee.calculate_salary()}\")\n",
        "print(f\"{manager.name}'s salary is: ${manager.calculate_salary()}\")"
      ],
      "metadata": {
        "colab": {
          "base_uri": "https://localhost:8080/",
          "height": 106
        },
        "id": "oe1Nsuie9fw9",
        "outputId": "fd4180b8-48e7-4a43-ae1a-706c90176ff7"
      },
      "execution_count": 14,
      "outputs": [
        {
          "output_type": "error",
          "ename": "SyntaxError",
          "evalue": "invalid syntax (<ipython-input-14-fa65df847fd3>, line 2)",
          "traceback": [
            "\u001b[0;36m  File \u001b[0;32m\"<ipython-input-14-fa65df847fd3>\"\u001b[0;36m, line \u001b[0;32m2\u001b[0m\n\u001b[0;31m    and hourly rate. Create a derived class Manager that adds a bonus to the salary\u001b[0m\n\u001b[0m    ^\u001b[0m\n\u001b[0;31mSyntaxError\u001b[0m\u001b[0;31m:\u001b[0m invalid syntax\n"
          ]
        }
      ]
    },
    {
      "cell_type": "code",
      "source": [
        "#15. Create a class Product with attributes name, price, and quantity. Implement a method total_price() that\n",
        "calculates the total price of the product.\n",
        "Ans-Code Implementation:\n",
        "python\n",
        "Copy\n",
        "class Product:\n",
        "    def __init__(self, name, price, quantity):\n",
        "        self.name = name  # Name of the product\n",
        "        self.price = price  # Price per unit\n",
        "        self.quantity = quantity  # Quantity of the product\n",
        "\n",
        "    # Method to calculate the total price of the product\n",
        "    def total_price(self):\n",
        "        return self.price * self.quantity\n",
        "\n",
        "# Creating an instance of Product\n",
        "product1 = Product(\"Laptop\", 1000, 3)\n",
        "\n",
        "# Calling the total_price method to calculate the total price\n",
        "total = product1.total_price()\n",
        "\n",
        "# Printing the total price\n",
        "print(f\"The total price of {product1.quantity} {product1.name}s is: ${total}\")\n"
      ],
      "metadata": {
        "colab": {
          "base_uri": "https://localhost:8080/",
          "height": 106
        },
        "id": "DXthpZZg9vJG",
        "outputId": "d30d588a-8b88-4d43-a676-4ba559ec8e43"
      },
      "execution_count": 15,
      "outputs": [
        {
          "output_type": "error",
          "ename": "SyntaxError",
          "evalue": "invalid syntax (<ipython-input-15-51a1028a5854>, line 2)",
          "traceback": [
            "\u001b[0;36m  File \u001b[0;32m\"<ipython-input-15-51a1028a5854>\"\u001b[0;36m, line \u001b[0;32m2\u001b[0m\n\u001b[0;31m    calculates the total price of the product.\u001b[0m\n\u001b[0m               ^\u001b[0m\n\u001b[0;31mSyntaxError\u001b[0m\u001b[0;31m:\u001b[0m invalid syntax\n"
          ]
        }
      ]
    },
    {
      "cell_type": "code",
      "source": [
        "#16.Create a class Animal with an abstract method sound(). Create two derived classes Cow and Sheep that\n",
        "implement the sound() method.\n",
        "Ans-Code Implementation:\n",
        "python\n",
        "Copy\n",
        "from abc import ABC, abstractmethod\n",
        "\n",
        "# Abstract base class Animal\n",
        "class Animal(ABC):\n",
        "    @abstractmethod\n",
        "    def sound(self):\n",
        "        pass  # The abstract method doesn't have an implementation\n",
        "\n",
        "# Derived class Cow\n",
        "class Cow(Animal):\n",
        "    def sound(self):\n",
        "        return \"Moo\"\n",
        "\n",
        "# Derived class Sheep\n",
        "class Sheep(Animal):\n",
        "    def sound(self):\n",
        "        return \"Baa\"\n",
        "\n",
        "# Create instances of Cow and Sheep\n",
        "cow = Cow()\n",
        "sheep = Sheep()\n",
        "\n",
        "# Calling the sound method for both animals\n",
        "print(f\"Cow sound: {cow.sound()}\")\n",
        "print(f\"Sheep sound: {sheep.sound()}\")"
      ],
      "metadata": {
        "colab": {
          "base_uri": "https://localhost:8080/",
          "height": 106
        },
        "id": "nCK9HuuS-DfI",
        "outputId": "cacfdbaf-177f-4fcb-b492-882513b95c4d"
      },
      "execution_count": 16,
      "outputs": [
        {
          "output_type": "error",
          "ename": "SyntaxError",
          "evalue": "invalid syntax (<ipython-input-16-42b770b46007>, line 2)",
          "traceback": [
            "\u001b[0;36m  File \u001b[0;32m\"<ipython-input-16-42b770b46007>\"\u001b[0;36m, line \u001b[0;32m2\u001b[0m\n\u001b[0;31m    implement the sound() method.\u001b[0m\n\u001b[0m              ^\u001b[0m\n\u001b[0;31mSyntaxError\u001b[0m\u001b[0;31m:\u001b[0m invalid syntax\n"
          ]
        }
      ]
    },
    {
      "cell_type": "code",
      "source": [
        "#17. Create a class Book with attributes title, author, and year_published. Add a method get_book_info() that\n",
        "returns a formatted string with the book's details.\n",
        "Ans-Code Implementation:\n",
        "python\n",
        "Copy\n",
        "class Book:\n",
        "    def __init__(self, title, author, year_published):\n",
        "        self.title = title  # Title of the book\n",
        "        self.author = author  # Author of the book\n",
        "        self.year_published = year_published  # Year the book was published\n",
        "\n",
        "    # Method to get the book's details in a formatted string\n",
        "    def get_book_info(self):\n",
        "        return f\"Title: {self.title}\\nAuthor: {self.author}\\nYear Published: {self.year_published}\"\n",
        "\n",
        "# Creating an instance of Book\n",
        "book1 = Book(\"To Kill a Mockingbird\", \"Harper Lee\", 1960)\n",
        "\n",
        "# Calling the get_book_info method to get the book details\n",
        "book_info = book1.get_book_info()\n",
        "\n",
        "# Printing the book details\n",
        "print(book_info)"
      ],
      "metadata": {
        "colab": {
          "base_uri": "https://localhost:8080/",
          "height": 106
        },
        "id": "hFbbm2SY-QK0",
        "outputId": "818ecb19-632d-4f36-ccc0-f8a67d2f39bb"
      },
      "execution_count": 17,
      "outputs": [
        {
          "output_type": "error",
          "ename": "SyntaxError",
          "evalue": "unterminated string literal (detected at line 2) (<ipython-input-17-8bde7c53229e>, line 2)",
          "traceback": [
            "\u001b[0;36m  File \u001b[0;32m\"<ipython-input-17-8bde7c53229e>\"\u001b[0;36m, line \u001b[0;32m2\u001b[0m\n\u001b[0;31m    returns a formatted string with the book's details.\u001b[0m\n\u001b[0m                                            ^\u001b[0m\n\u001b[0;31mSyntaxError\u001b[0m\u001b[0;31m:\u001b[0m unterminated string literal (detected at line 2)\n"
          ]
        }
      ]
    },
    {
      "cell_type": "code",
      "source": [
        "#18. Create a class House with attributes address and price. Create a derived class Mansion that adds an\n",
        "attribute number_of_rooms.\n",
        "Ans-Code Implementation:\n",
        "python\n",
        "Copy\n",
        "# Base class House\n",
        "class House:\n",
        "    def __init__(self, address, price):\n",
        "        self.address = address  # Address of the house\n",
        "        self.price = price      # Price of the house\n",
        "\n",
        "    # Method to get the house details\n",
        "    def get_house_info(self):\n",
        "        return f\"Address: {self.address}\\nPrice: ${self.price}\"\n",
        "\n",
        "# Derived class Mansion that adds number_of_rooms\n",
        "class Mansion(House):\n",
        "    def __init__(self, address, price, number_of_rooms):\n",
        "        # Initialize the base class (House) with address and price\n",
        "        super().__init__(address, price)\n",
        "        self.number_of_rooms = number_of_rooms  # Number of rooms in the mansion\n",
        "\n",
        "    # Method to get the mansion details including the number of rooms\n",
        "    def get_mansion_info(self):\n",
        "        house_info = super().get_house_info()  # Get basic house info\n",
        "        return f\"{house_info}\\nNumber of Rooms: {self.number_of_rooms}\"\n",
        "\n",
        "# Creating an instance of Mansion\n",
        "mansion = Mansion(\"123 Beverly Hills, CA\", 5000000, 10)\n",
        "\n",
        "# Calling the get_mansion_info method to get the mansion details\n",
        "mansion_info = mansion.get_mansion_info()\n",
        "\n",
        "# Printing the mansion details\n",
        "print(mansion_info)\n"
      ],
      "metadata": {
        "id": "Qhexs3FQ-dyo"
      },
      "execution_count": null,
      "outputs": []
    }
  ]
}